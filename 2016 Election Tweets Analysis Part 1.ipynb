{
 "cells": [
  {
   "cell_type": "markdown",
   "metadata": {},
   "source": [
    "# Election Tweets Analysis"
   ]
  },
  {
   "cell_type": "markdown",
   "metadata": {},
   "source": [
    "## Load Python Dependencies"
   ]
  },
  {
   "cell_type": "code",
   "execution_count": 1,
   "metadata": {
    "collapsed": false
   },
   "outputs": [
    {
     "name": "stderr",
     "output_type": "stream",
     "text": [
      "[INFO] graphlab.cython.cy_server: GraphLab Create v2.1 started. Logging: /tmp/graphlab_server_1483927055.log\n"
     ]
    },
    {
     "name": "stdout",
     "output_type": "stream",
     "text": [
      "This non-commercial license of GraphLab Create for academic use is assigned to epigos@gmail.com and will expire on September 25, 2017.\n"
     ]
    }
   ],
   "source": [
    "import graphlab as gl\n",
    "import re\n",
    "from os import path\n",
    "import matplotlib.pyplot as plt\n",
    "import seaborn as sns\n",
    "from wordcloud import WordCloud, STOPWORDS\n",
    "from scipy.misc import imread\n",
    "import pandas as pd\n",
    "\n",
    "%matplotlib inline\n",
    "pd.set_option('display.max_colwidth', -1)"
   ]
  },
  {
   "cell_type": "markdown",
   "metadata": {},
   "source": [
    "### Load and clean tweets"
   ]
  },
  {
   "cell_type": "code",
   "execution_count": 2,
   "metadata": {
    "collapsed": false
   },
   "outputs": [
    {
     "data": {
      "text/html": [
       "<pre>Finished parsing file /Users/philip/devel/ml/ghana_elections/data/tweets.csv</pre>"
      ],
      "text/plain": [
       "Finished parsing file /Users/philip/devel/ml/ghana_elections/data/tweets.csv"
      ]
     },
     "metadata": {},
     "output_type": "display_data"
    },
    {
     "data": {
      "text/html": [
       "<pre>Parsing completed. Parsed 100 lines in 0.204835 secs.</pre>"
      ],
      "text/plain": [
       "Parsing completed. Parsed 100 lines in 0.204835 secs."
      ]
     },
     "metadata": {},
     "output_type": "display_data"
    },
    {
     "name": "stdout",
     "output_type": "stream",
     "text": [
      "------------------------------------------------------\n",
      "Inferred types from first 100 line(s) of file as \n",
      "column_type_hints=[int,str,str,int,int,str,str,str]\n",
      "If parsing fails due to incorrect types, you can correct\n",
      "the inferred type list above and pass it to read_csv in\n",
      "the column_type_hints argument\n",
      "------------------------------------------------------\n"
     ]
    },
    {
     "data": {
      "text/html": [
       "<pre>Finished parsing file /Users/philip/devel/ml/ghana_elections/data/tweets.csv</pre>"
      ],
      "text/plain": [
       "Finished parsing file /Users/philip/devel/ml/ghana_elections/data/tweets.csv"
      ]
     },
     "metadata": {},
     "output_type": "display_data"
    },
    {
     "data": {
      "text/html": [
       "<pre>Parsing completed. Parsed 65499 lines in 0.250371 secs.</pre>"
      ],
      "text/plain": [
       "Parsing completed. Parsed 65499 lines in 0.250371 secs."
      ]
     },
     "metadata": {},
     "output_type": "display_data"
    }
   ],
   "source": [
    "raw_tweets = gl.SFrame('data/tweets.csv')"
   ]
  },
  {
   "cell_type": "code",
   "execution_count": 25,
   "metadata": {
    "collapsed": true
   },
   "outputs": [],
   "source": [
    "# cleanup scripts\n",
    "def cleanup_text(value):\n",
    "    \"\"\"Cleanup tweets by removing 'retweeted', stopwords and other characters\"\"\"\n",
    "    output = []\n",
    "    value = re.sub(r'((retweeted))', '', value, flags=re.I)\n",
    "    value = re.sub(r'[^\\w\\s]+', ' ', value)\n",
    "    for word in value.split():\n",
    "        if len(word) > 2 and word not in gl.text_analytics.stopwords():\n",
    "            output.append(word.strip())\n",
    "    return ' '.join(output)"
   ]
  },
  {
   "cell_type": "code",
   "execution_count": 26,
   "metadata": {
    "collapsed": false
   },
   "outputs": [],
   "source": [
    "raw_tweets['clean_text'] = raw_tweets['text'].apply(cleanup_text)"
   ]
  },
  {
   "cell_type": "code",
   "execution_count": 27,
   "metadata": {
    "collapsed": false
   },
   "outputs": [],
   "source": [
    "tweets = raw_tweets[raw_tweets['clean_text'] != '']"
   ]
  },
  {
   "cell_type": "code",
   "execution_count": 28,
   "metadata": {
    "collapsed": false
   },
   "outputs": [
    {
     "name": "stdout",
     "output_type": "stream",
     "text": [
      "Canvas is accessible via web browser at the URL: http://localhost:51283/index.html\n",
      "Opening Canvas in default web browser.\n"
     ]
    }
   ],
   "source": [
    "tweets.show()"
   ]
  },
  {
   "cell_type": "code",
   "execution_count": null,
   "metadata": {
    "collapsed": true
   },
   "outputs": [],
   "source": []
  },
  {
   "cell_type": "markdown",
   "metadata": {
    "collapsed": false
   },
   "source": [
    "# Wordcloud"
   ]
  },
  {
   "cell_type": "code",
   "execution_count": 60,
   "metadata": {
    "collapsed": false
   },
   "outputs": [],
   "source": [
    "ghana_map_mask = imread('./assets/ghana_map.png')\n",
    "text = ' '.join(tweets['clean_text'])\n",
    "wordcloud = WordCloud(\n",
    "    font_path='./assets/RobotoDraft-Regular.ttf',\n",
    "    stopwords=STOPWORDS,\n",
    "    background_color='white',\n",
    "    max_words=500,\n",
    "    mask=ghana_map_mask,\n",
    "    random_state=90\n",
    ").generate(text)"
   ]
  },
  {
   "cell_type": "markdown",
   "metadata": {},
   "source": [
    "## save word cloud as image"
   ]
  },
  {
   "cell_type": "code",
   "execution_count": 61,
   "metadata": {
    "collapsed": false
   },
   "outputs": [
    {
     "data": {
      "image/png": "[encoded data removed]",
      "text/plain": [
       "<matplotlib.figure.Figure at 0x12a941590>"
      ]
     },
     "metadata": {},
     "output_type": "display_data"
    }
   ],
   "source": [
    "plt.imshow(wordcloud)\n",
    "plt.axis('off')\n",
    "plt.savefig('./tweet_cloud.png', dpi=600)\n",
    "plt.show()"
   ]
  },
  {
   "cell_type": "markdown",
   "metadata": {},
   "source": [
    "# Predict sentiments of tweets"
   ]
  },
  {
   "cell_type": "code",
   "execution_count": 100,
   "metadata": {
    "collapsed": false
   },
   "outputs": [],
   "source": [
    "sentiment_model = gl.sentiment_analysis.create(tweets, features=['clean_text'])"
   ]
  },
  {
   "cell_type": "code",
   "execution_count": 30,
   "metadata": {
    "collapsed": false
   },
   "outputs": [],
   "source": [
    "tweets['sentiment_score'] = sentiment_model.predict(tweets)"
   ]
  },
  {
   "cell_type": "code",
   "execution_count": 31,
   "metadata": {
    "collapsed": true
   },
   "outputs": [],
   "source": [
    "def get_sentiment_from_score(value):\n",
    "    if value > 0.65:\n",
    "        return 'positive'\n",
    "    elif value < 0.45:\n",
    "        return 'negative'\n",
    "    return 'neutral'"
   ]
  },
  {
   "cell_type": "code",
   "execution_count": 32,
   "metadata": {
    "collapsed": false
   },
   "outputs": [],
   "source": [
    "tweets['sentiment'] = tweets['sentiment_score'].apply(get_sentiment_from_score)"
   ]
  },
  {
   "cell_type": "code",
   "execution_count": 33,
   "metadata": {
    "collapsed": false
   },
   "outputs": [
    {
     "name": "stdout",
     "output_type": "stream",
     "text": [
      "Canvas is accessible via web browser at the URL: http://localhost:51283/index.html\n",
      "Opening Canvas in default web browser.\n"
     ]
    }
   ],
   "source": [
    "tweets.show()"
   ]
  },
  {
   "cell_type": "markdown",
   "metadata": {},
   "source": [
    "# Detects emotions in tweets"
   ]
  },
  {
   "cell_type": "markdown",
   "metadata": {},
   "source": [
    "### Load NRC emotion lexicons"
   ]
  },
  {
   "cell_type": "code",
   "execution_count": 34,
   "metadata": {
    "collapsed": false
   },
   "outputs": [
    {
     "data": {
      "text/html": [
       "<pre>Finished parsing file /Users/philip/devel/ml/ghana_elections/data/emotion_lexicons.csv</pre>"
      ],
      "text/plain": [
       "Finished parsing file /Users/philip/devel/ml/ghana_elections/data/emotion_lexicons.csv"
      ]
     },
     "metadata": {},
     "output_type": "display_data"
    },
    {
     "data": {
      "text/html": [
       "<pre>Parsing completed. Parsed 100 lines in 0.028386 secs.</pre>"
      ],
      "text/plain": [
       "Parsing completed. Parsed 100 lines in 0.028386 secs."
      ]
     },
     "metadata": {},
     "output_type": "display_data"
    },
    {
     "name": "stdout",
     "output_type": "stream",
     "text": [
      "------------------------------------------------------\n",
      "Inferred types from first 100 line(s) of file as \n",
      "column_type_hints=[str,str]\n",
      "If parsing fails due to incorrect types, you can correct\n",
      "the inferred type list above and pass it to read_csv in\n",
      "the column_type_hints argument\n",
      "------------------------------------------------------\n"
     ]
    },
    {
     "data": {
      "text/html": [
       "<pre>Finished parsing file /Users/philip/devel/ml/ghana_elections/data/emotion_lexicons.csv</pre>"
      ],
      "text/plain": [
       "Finished parsing file /Users/philip/devel/ml/ghana_elections/data/emotion_lexicons.csv"
      ]
     },
     "metadata": {},
     "output_type": "display_data"
    },
    {
     "data": {
      "text/html": [
       "<pre>Parsing completed. Parsed 4463 lines in 0.012209 secs.</pre>"
      ],
      "text/plain": [
       "Parsing completed. Parsed 4463 lines in 0.012209 secs."
      ]
     },
     "metadata": {},
     "output_type": "display_data"
    }
   ],
   "source": [
    "lexicons = gl.SFrame('data/emotion_lexicons.csv')\n",
    "topics = lexicons['emotion'].unique()"
   ]
  },
  {
   "cell_type": "code",
   "execution_count": 35,
   "metadata": {
    "collapsed": false
   },
   "outputs": [
    {
     "data": {
      "text/html": [
       "<div style=\"max-height:1000px;max-width:1500px;overflow:auto;\"><table frame=\"box\" rules=\"cols\">\n",
       "    <tr>\n",
       "        <th style=\"padding-left: 1em; padding-right: 1em; text-align: center\">emotion</th>\n",
       "        <th style=\"padding-left: 1em; padding-right: 1em; text-align: center\">word</th>\n",
       "    </tr>\n",
       "    <tr>\n",
       "        <td style=\"padding-left: 1em; padding-right: 1em; text-align: center; vertical-align: top\">trust</td>\n",
       "        <td style=\"padding-left: 1em; padding-right: 1em; text-align: center; vertical-align: top\">abacus</td>\n",
       "    </tr>\n",
       "    <tr>\n",
       "        <td style=\"padding-left: 1em; padding-right: 1em; text-align: center; vertical-align: top\">fear</td>\n",
       "        <td style=\"padding-left: 1em; padding-right: 1em; text-align: center; vertical-align: top\">abandon</td>\n",
       "    </tr>\n",
       "    <tr>\n",
       "        <td style=\"padding-left: 1em; padding-right: 1em; text-align: center; vertical-align: top\">anger</td>\n",
       "        <td style=\"padding-left: 1em; padding-right: 1em; text-align: center; vertical-align: top\">abandoned</td>\n",
       "    </tr>\n",
       "    <tr>\n",
       "        <td style=\"padding-left: 1em; padding-right: 1em; text-align: center; vertical-align: top\">anger</td>\n",
       "        <td style=\"padding-left: 1em; padding-right: 1em; text-align: center; vertical-align: top\">abandonment</td>\n",
       "    </tr>\n",
       "    <tr>\n",
       "        <td style=\"padding-left: 1em; padding-right: 1em; text-align: center; vertical-align: top\">trust</td>\n",
       "        <td style=\"padding-left: 1em; padding-right: 1em; text-align: center; vertical-align: top\">abbot</td>\n",
       "    </tr>\n",
       "    <tr>\n",
       "        <td style=\"padding-left: 1em; padding-right: 1em; text-align: center; vertical-align: top\">fear</td>\n",
       "        <td style=\"padding-left: 1em; padding-right: 1em; text-align: center; vertical-align: top\">abduction</td>\n",
       "    </tr>\n",
       "    <tr>\n",
       "        <td style=\"padding-left: 1em; padding-right: 1em; text-align: center; vertical-align: top\">disgust</td>\n",
       "        <td style=\"padding-left: 1em; padding-right: 1em; text-align: center; vertical-align: top\">aberration</td>\n",
       "    </tr>\n",
       "    <tr>\n",
       "        <td style=\"padding-left: 1em; padding-right: 1em; text-align: center; vertical-align: top\">anger</td>\n",
       "        <td style=\"padding-left: 1em; padding-right: 1em; text-align: center; vertical-align: top\">abhor</td>\n",
       "    </tr>\n",
       "    <tr>\n",
       "        <td style=\"padding-left: 1em; padding-right: 1em; text-align: center; vertical-align: top\">anger</td>\n",
       "        <td style=\"padding-left: 1em; padding-right: 1em; text-align: center; vertical-align: top\">abhorrent</td>\n",
       "    </tr>\n",
       "    <tr>\n",
       "        <td style=\"padding-left: 1em; padding-right: 1em; text-align: center; vertical-align: top\">disgust</td>\n",
       "        <td style=\"padding-left: 1em; padding-right: 1em; text-align: center; vertical-align: top\">abject</td>\n",
       "    </tr>\n",
       "</table>\n",
       "[4463 rows x 2 columns]<br/>Note: Only the head of the SFrame is printed.<br/>You can use print_rows(num_rows=m, num_columns=n) to print more rows and columns.\n",
       "</div>"
      ],
      "text/plain": [
       "Columns:\n",
       "\temotion\tstr\n",
       "\tword\tstr\n",
       "\n",
       "Rows: 4463\n",
       "\n",
       "Data:\n",
       "+---------+-------------+\n",
       "| emotion |     word    |\n",
       "+---------+-------------+\n",
       "|  trust  |    abacus   |\n",
       "|   fear  |   abandon   |\n",
       "|  anger  |  abandoned  |\n",
       "|  anger  | abandonment |\n",
       "|  trust  |    abbot    |\n",
       "|   fear  |  abduction  |\n",
       "| disgust |  aberration |\n",
       "|  anger  |    abhor    |\n",
       "|  anger  |  abhorrent  |\n",
       "| disgust |    abject   |\n",
       "+---------+-------------+\n",
       "[4463 rows x 2 columns]\n",
       "Note: Only the head of the SFrame is printed.\n",
       "You can use print_rows(num_rows=m, num_columns=n) to print more rows and columns."
      ]
     },
     "execution_count": 35,
     "metadata": {},
     "output_type": "execute_result"
    }
   ],
   "source": [
    "lexicons"
   ]
  },
  {
   "cell_type": "markdown",
   "metadata": {},
   "source": [
    "### Convert lexicons from str to int type"
   ]
  },
  {
   "cell_type": "code",
   "execution_count": 36,
   "metadata": {
    "collapsed": false
   },
   "outputs": [],
   "source": [
    "topics.sort()\n",
    "map_topics = {}\n",
    "for k, v in enumerate(topics.sort()):\n",
    "    map_topics[v] = k\n",
    "\n",
    "\n",
    "def get_emotion(value):\n",
    "    for k, v in map_topics.items():\n",
    "        if v == value:\n",
    "            return k"
   ]
  },
  {
   "cell_type": "code",
   "execution_count": 37,
   "metadata": {
    "collapsed": false
   },
   "outputs": [],
   "source": [
    "lexicons['emotion'] = lexicons['emotion'].apply(lambda k: map_topics[k])"
   ]
  },
  {
   "cell_type": "markdown",
   "metadata": {},
   "source": [
    "### Perform word count on tweets"
   ]
  },
  {
   "cell_type": "code",
   "execution_count": 38,
   "metadata": {
    "collapsed": false
   },
   "outputs": [],
   "source": [
    "tweets['word_count'] = gl.text_analytics.count_words(tweets['clean_text'])"
   ]
  },
  {
   "cell_type": "markdown",
   "metadata": {},
   "source": [
    "### Load emotion model"
   ]
  },
  {
   "cell_type": "code",
   "execution_count": 39,
   "metadata": {
    "collapsed": true
   },
   "outputs": [],
   "source": [
    "emotion_model = gl.load_model('models/emotion_model')"
   ]
  },
  {
   "cell_type": "code",
   "execution_count": 40,
   "metadata": {
    "collapsed": false
   },
   "outputs": [
    {
     "name": "stdout",
     "output_type": "stream",
     "text": [
      "Canvas is accessible via web browser at the URL: http://localhost:51283/index.html\n",
      "Opening Canvas in default web browser.\n"
     ]
    }
   ],
   "source": [
    "tweets['emotion_score'] = emotion_model.predict(tweets['word_count'])\n",
    "tweets['emotion'] = tweets['emotion_score'].apply(get_emotion)\n",
    "tweets['emotion'].show()"
   ]
  },
  {
   "cell_type": "markdown",
   "metadata": {},
   "source": [
    "# Visualization of Analysis"
   ]
  },
  {
   "cell_type": "markdown",
   "metadata": {
    "collapsed": false
   },
   "source": [
    "## Top tweets"
   ]
  },
  {
   "cell_type": "code",
   "execution_count": 41,
   "metadata": {
    "collapsed": false
   },
   "outputs": [
    {
     "data": {
      "text/html": [
       "<div>\n",
       "<table border=\"1\" class=\"dataframe\">\n",
       "  <thead>\n",
       "    <tr style=\"text-align: right;\">\n",
       "      <th></th>\n",
       "      <th>timestamp</th>\n",
       "      <th>text</th>\n",
       "      <th>username</th>\n",
       "      <th>hashtag</th>\n",
       "      <th>score</th>\n",
       "    </tr>\n",
       "  </thead>\n",
       "  <tbody>\n",
       "    <tr>\n",
       "      <th>1</th>\n",
       "      <td>2016-12-06 10:52:51</td>\n",
       "      <td>Voting won t put food on your table but it will determine what food is put on your table</td>\n",
       "      <td>ameyaw112</td>\n",
       "      <td>GhanaDecides</td>\n",
       "      <td>735</td>\n",
       "    </tr>\n",
       "    <tr>\n",
       "      <th>2</th>\n",
       "      <td>2016-12-05 14:31:32</td>\n",
       "      <td>Ahead of 5 quirky things you might NOT know about Ghanaian elections Or do you</td>\n",
       "      <td>BBCAfrica</td>\n",
       "      <td>GhanaDecides</td>\n",
       "      <td>719</td>\n",
       "    </tr>\n",
       "    <tr>\n",
       "      <th>3</th>\n",
       "      <td>2016-12-07 10:45:01</td>\n",
       "      <td>As today we re wishing our Ghanaian followers a peaceful election Share your IVoted pics using the hashtag CNNGhanaWeek</td>\n",
       "      <td>CNNAfrica</td>\n",
       "      <td>GhanaDecides</td>\n",
       "      <td>620</td>\n",
       "    </tr>\n",
       "    <tr>\n",
       "      <th>4</th>\n",
       "      <td>2016-12-02 14:00:02</td>\n",
       "      <td>Did you know there are more mobile phones than people in Ghana CNNGhanaWeek</td>\n",
       "      <td>CNNAfrica</td>\n",
       "      <td>GhanaDecides</td>\n",
       "      <td>606</td>\n",
       "    </tr>\n",
       "    <tr>\n",
       "      <th>5</th>\n",
       "      <td>2016-12-07 15:00:00</td>\n",
       "      <td>Voting in Jaman North Brong Ahafo is going on TODAY If you are in line before 5pm YOU WILL BE ALLOWED TO VOTE VOTEFORCHANGE</td>\n",
       "      <td>NAkufoAddo</td>\n",
       "      <td>VoteForChange</td>\n",
       "      <td>479</td>\n",
       "    </tr>\n",
       "    <tr>\n",
       "      <th>6</th>\n",
       "      <td>2016-12-07 06:50:48</td>\n",
       "      <td>Silent Majority Vocal Minority or whoever you say you are it s time to be heard through your thumb ElectionHQ Adentan</td>\n",
       "      <td>TheIsraelLaryea</td>\n",
       "      <td>GhanaDecides</td>\n",
       "      <td>454</td>\n",
       "    </tr>\n",
       "    <tr>\n",
       "      <th>7</th>\n",
       "      <td>2016-11-27 14:43:57</td>\n",
       "      <td>Everywhere I go I meet Ghanaians who are calling for change They are standing up for their future ChooseChange IAmVotingForChange</td>\n",
       "      <td>NAkufoAddo</td>\n",
       "      <td>ChooseChange</td>\n",
       "      <td>453</td>\n",
       "    </tr>\n",
       "    <tr>\n",
       "      <th>8</th>\n",
       "      <td>2016-12-05 09:12:24</td>\n",
       "      <td>Hello friends the date of destiny is approaching Wednesday presents an opportunity to make history and VoteForChange</td>\n",
       "      <td>MBawumia</td>\n",
       "      <td>VoteForChange</td>\n",
       "      <td>431</td>\n",
       "    </tr>\n",
       "    <tr>\n",
       "      <th>9</th>\n",
       "      <td>2016-11-30 13:09:50</td>\n",
       "      <td>The man working for you Vote JDMahama Vote more jobs for the youth TransformingGhana ChangingLives</td>\n",
       "      <td>TransformingGh</td>\n",
       "      <td>TransformingGhana</td>\n",
       "      <td>409</td>\n",
       "    </tr>\n",
       "    <tr>\n",
       "      <th>10</th>\n",
       "      <td>2016-12-07 12:36:51</td>\n",
       "      <td>Governor elrufai is currently in Ghana Observing the Presidential and Parliamentary Elections</td>\n",
       "      <td>GovKaduna</td>\n",
       "      <td>GhanaDecides</td>\n",
       "      <td>392</td>\n",
       "    </tr>\n",
       "  </tbody>\n",
       "</table>\n",
       "</div>"
      ],
      "text/plain": [
       "              timestamp  \\\n",
       "1   2016-12-06 10:52:51   \n",
       "2   2016-12-05 14:31:32   \n",
       "3   2016-12-07 10:45:01   \n",
       "4   2016-12-02 14:00:02   \n",
       "5   2016-12-07 15:00:00   \n",
       "6   2016-12-07 06:50:48   \n",
       "7   2016-11-27 14:43:57   \n",
       "8   2016-12-05 09:12:24   \n",
       "9   2016-11-30 13:09:50   \n",
       "10  2016-12-07 12:36:51   \n",
       "\n",
       "                                                                                                                                 text  \\\n",
       "1   Voting won t put food on your table but it will determine what food is put on your table                                            \n",
       "2   Ahead of 5 quirky things you might NOT know about Ghanaian elections Or do you                                                      \n",
       "3   As today we re wishing our Ghanaian followers a peaceful election Share your IVoted pics using the hashtag CNNGhanaWeek             \n",
       "4   Did you know there are more mobile phones than people in Ghana CNNGhanaWeek                                                         \n",
       "5   Voting in Jaman North Brong Ahafo is going on TODAY If you are in line before 5pm YOU WILL BE ALLOWED TO VOTE VOTEFORCHANGE         \n",
       "6   Silent Majority Vocal Minority or whoever you say you are it s time to be heard through your thumb ElectionHQ Adentan               \n",
       "7   Everywhere I go I meet Ghanaians who are calling for change They are standing up for their future ChooseChange IAmVotingForChange   \n",
       "8   Hello friends the date of destiny is approaching Wednesday presents an opportunity to make history and VoteForChange                \n",
       "9   The man working for you Vote JDMahama Vote more jobs for the youth TransformingGhana ChangingLives                                  \n",
       "10  Governor elrufai is currently in Ghana Observing the Presidential and Parliamentary Elections                                       \n",
       "\n",
       "           username            hashtag  score  \n",
       "1   ameyaw112        GhanaDecides       735    \n",
       "2   BBCAfrica        GhanaDecides       719    \n",
       "3   CNNAfrica        GhanaDecides       620    \n",
       "4   CNNAfrica        GhanaDecides       606    \n",
       "5   NAkufoAddo       VoteForChange      479    \n",
       "6   TheIsraelLaryea  GhanaDecides       454    \n",
       "7   NAkufoAddo       ChooseChange       453    \n",
       "8   MBawumia         VoteForChange      431    \n",
       "9   TransformingGh   TransformingGhana  409    \n",
       "10  GovKaduna        GhanaDecides       392    "
      ]
     },
     "execution_count": 41,
     "metadata": {},
     "output_type": "execute_result"
    }
   ],
   "source": [
    "top_tweets = tweets.sort('score', ascending=False)[:10]\n",
    "ts = top_tweets[['timestamp', 'text', 'username', 'hashtag', 'score']]\n",
    "top_tweets_df = ts.to_dataframe()\n",
    "top_tweets_df.reset_index(drop=True, inplace=True)\n",
    "top_tweets_df.index += 1\n",
    "top_tweets_df"
   ]
  },
  {
   "cell_type": "markdown",
   "metadata": {},
   "source": [
    "## Top users"
   ]
  },
  {
   "cell_type": "code",
   "execution_count": 42,
   "metadata": {
    "collapsed": false
   },
   "outputs": [],
   "source": [
    "top_users = tweets.groupby(key_columns='username', \n",
    "                           operations={'Tweet Count': gl.aggregate.COUNT(), \n",
    "                                       'Tweet Score': gl.aggregate.SUM('score')}\n",
    "                          )\n",
    "top_users.rename({'username': 'Twitter Id'})\n",
    "top_users = top_users[top_users['Tweet Count'] > top_users['Tweet Count'].mean()]"
   ]
  },
  {
   "cell_type": "code",
   "execution_count": 43,
   "metadata": {
    "collapsed": false
   },
   "outputs": [
    {
     "data": {
      "text/html": [
       "<div>\n",
       "<table border=\"1\" class=\"dataframe\">\n",
       "  <thead>\n",
       "    <tr style=\"text-align: right;\">\n",
       "      <th></th>\n",
       "      <th>Twitter Id</th>\n",
       "      <th>Tweet Count</th>\n",
       "      <th>Tweet Score</th>\n",
       "      <th>Avg Score Per Tweet</th>\n",
       "    </tr>\n",
       "  </thead>\n",
       "  <tbody>\n",
       "    <tr>\n",
       "      <th>0</th>\n",
       "      <td>OJSarpong</td>\n",
       "      <td>61</td>\n",
       "      <td>56</td>\n",
       "      <td>0.918033</td>\n",
       "    </tr>\n",
       "    <tr>\n",
       "      <th>1</th>\n",
       "      <td>Rosakum3</td>\n",
       "      <td>20</td>\n",
       "      <td>7</td>\n",
       "      <td>0.350000</td>\n",
       "    </tr>\n",
       "    <tr>\n",
       "      <th>2</th>\n",
       "      <td>atajohn6</td>\n",
       "      <td>31</td>\n",
       "      <td>11</td>\n",
       "      <td>0.354839</td>\n",
       "    </tr>\n",
       "    <tr>\n",
       "      <th>3</th>\n",
       "      <td>AStella2131</td>\n",
       "      <td>74</td>\n",
       "      <td>0</td>\n",
       "      <td>0.000000</td>\n",
       "    </tr>\n",
       "    <tr>\n",
       "      <th>4</th>\n",
       "      <td>PaakowEghan</td>\n",
       "      <td>12</td>\n",
       "      <td>32</td>\n",
       "      <td>2.666667</td>\n",
       "    </tr>\n",
       "    <tr>\n",
       "      <th>5</th>\n",
       "      <td>sYzirO1</td>\n",
       "      <td>16</td>\n",
       "      <td>10</td>\n",
       "      <td>0.625000</td>\n",
       "    </tr>\n",
       "    <tr>\n",
       "      <th>6</th>\n",
       "      <td>WarrenCFC</td>\n",
       "      <td>16</td>\n",
       "      <td>72</td>\n",
       "      <td>4.500000</td>\n",
       "    </tr>\n",
       "    <tr>\n",
       "      <th>7</th>\n",
       "      <td>ElectionNetwork</td>\n",
       "      <td>12</td>\n",
       "      <td>66</td>\n",
       "      <td>5.500000</td>\n",
       "    </tr>\n",
       "    <tr>\n",
       "      <th>8</th>\n",
       "      <td>Beekie75</td>\n",
       "      <td>35</td>\n",
       "      <td>10</td>\n",
       "      <td>0.285714</td>\n",
       "    </tr>\n",
       "    <tr>\n",
       "      <th>9</th>\n",
       "      <td>BBB_De_engineer</td>\n",
       "      <td>78</td>\n",
       "      <td>0</td>\n",
       "      <td>0.000000</td>\n",
       "    </tr>\n",
       "    <tr>\n",
       "      <th>10</th>\n",
       "      <td>adabee_</td>\n",
       "      <td>21</td>\n",
       "      <td>45</td>\n",
       "      <td>2.142857</td>\n",
       "    </tr>\n",
       "    <tr>\n",
       "      <th>11</th>\n",
       "      <td>iameyram</td>\n",
       "      <td>16</td>\n",
       "      <td>22</td>\n",
       "      <td>1.375000</td>\n",
       "    </tr>\n",
       "    <tr>\n",
       "      <th>12</th>\n",
       "      <td>AmpomaAdu</td>\n",
       "      <td>19</td>\n",
       "      <td>10</td>\n",
       "      <td>0.526316</td>\n",
       "    </tr>\n",
       "    <tr>\n",
       "      <th>13</th>\n",
       "      <td>Okay1017fm</td>\n",
       "      <td>70</td>\n",
       "      <td>160</td>\n",
       "      <td>2.285714</td>\n",
       "    </tr>\n",
       "    <tr>\n",
       "      <th>14</th>\n",
       "      <td>Appiah591</td>\n",
       "      <td>17</td>\n",
       "      <td>4</td>\n",
       "      <td>0.235294</td>\n",
       "    </tr>\n",
       "    <tr>\n",
       "      <th>15</th>\n",
       "      <td>GeoHashTrend</td>\n",
       "      <td>33</td>\n",
       "      <td>183</td>\n",
       "      <td>5.545455</td>\n",
       "    </tr>\n",
       "    <tr>\n",
       "      <th>16</th>\n",
       "      <td>ghanafeeds</td>\n",
       "      <td>14</td>\n",
       "      <td>1</td>\n",
       "      <td>0.071429</td>\n",
       "    </tr>\n",
       "    <tr>\n",
       "      <th>17</th>\n",
       "      <td>Victormk45</td>\n",
       "      <td>64</td>\n",
       "      <td>65</td>\n",
       "      <td>1.015625</td>\n",
       "    </tr>\n",
       "    <tr>\n",
       "      <th>18</th>\n",
       "      <td>Stewardmens</td>\n",
       "      <td>48</td>\n",
       "      <td>26</td>\n",
       "      <td>0.541667</td>\n",
       "    </tr>\n",
       "    <tr>\n",
       "      <th>19</th>\n",
       "      <td>Olandokee</td>\n",
       "      <td>26</td>\n",
       "      <td>6</td>\n",
       "      <td>0.230769</td>\n",
       "    </tr>\n",
       "    <tr>\n",
       "      <th>20</th>\n",
       "      <td>saminukanti</td>\n",
       "      <td>11</td>\n",
       "      <td>12</td>\n",
       "      <td>1.090909</td>\n",
       "    </tr>\n",
       "    <tr>\n",
       "      <th>21</th>\n",
       "      <td>kkson23</td>\n",
       "      <td>18</td>\n",
       "      <td>10</td>\n",
       "      <td>0.555556</td>\n",
       "    </tr>\n",
       "    <tr>\n",
       "      <th>22</th>\n",
       "      <td>DoSomething_GH</td>\n",
       "      <td>33</td>\n",
       "      <td>10</td>\n",
       "      <td>0.303030</td>\n",
       "    </tr>\n",
       "    <tr>\n",
       "      <th>23</th>\n",
       "      <td>yaw_aafriyie</td>\n",
       "      <td>16</td>\n",
       "      <td>8</td>\n",
       "      <td>0.500000</td>\n",
       "    </tr>\n",
       "    <tr>\n",
       "      <th>24</th>\n",
       "      <td>ElvyssB</td>\n",
       "      <td>11</td>\n",
       "      <td>99</td>\n",
       "      <td>9.000000</td>\n",
       "    </tr>\n",
       "    <tr>\n",
       "      <th>25</th>\n",
       "      <td>cutie_akoma</td>\n",
       "      <td>84</td>\n",
       "      <td>1</td>\n",
       "      <td>0.011905</td>\n",
       "    </tr>\n",
       "    <tr>\n",
       "      <th>26</th>\n",
       "      <td>Kwabena</td>\n",
       "      <td>29</td>\n",
       "      <td>281</td>\n",
       "      <td>9.689655</td>\n",
       "    </tr>\n",
       "    <tr>\n",
       "      <th>27</th>\n",
       "      <td>BeeNarki1</td>\n",
       "      <td>15</td>\n",
       "      <td>1</td>\n",
       "      <td>0.066667</td>\n",
       "    </tr>\n",
       "    <tr>\n",
       "      <th>28</th>\n",
       "      <td>nadsayshares</td>\n",
       "      <td>14</td>\n",
       "      <td>36</td>\n",
       "      <td>2.571429</td>\n",
       "    </tr>\n",
       "    <tr>\n",
       "      <th>29</th>\n",
       "      <td>otumfournana</td>\n",
       "      <td>36</td>\n",
       "      <td>8</td>\n",
       "      <td>0.222222</td>\n",
       "    </tr>\n",
       "    <tr>\n",
       "      <th>...</th>\n",
       "      <td>...</td>\n",
       "      <td>...</td>\n",
       "      <td>...</td>\n",
       "      <td>...</td>\n",
       "    </tr>\n",
       "    <tr>\n",
       "      <th>696</th>\n",
       "      <td>DJPutinGh</td>\n",
       "      <td>22</td>\n",
       "      <td>2</td>\n",
       "      <td>0.090909</td>\n",
       "    </tr>\n",
       "    <tr>\n",
       "      <th>697</th>\n",
       "      <td>afia_agyeiwaah</td>\n",
       "      <td>53</td>\n",
       "      <td>20</td>\n",
       "      <td>0.377358</td>\n",
       "    </tr>\n",
       "    <tr>\n",
       "      <th>698</th>\n",
       "      <td>allmediagh</td>\n",
       "      <td>237</td>\n",
       "      <td>1009</td>\n",
       "      <td>4.257384</td>\n",
       "    </tr>\n",
       "    <tr>\n",
       "      <th>699</th>\n",
       "      <td>oseiwaa2</td>\n",
       "      <td>17</td>\n",
       "      <td>13</td>\n",
       "      <td>0.764706</td>\n",
       "    </tr>\n",
       "    <tr>\n",
       "      <th>700</th>\n",
       "      <td>PunchlineAfric</td>\n",
       "      <td>18</td>\n",
       "      <td>141</td>\n",
       "      <td>7.833333</td>\n",
       "    </tr>\n",
       "    <tr>\n",
       "      <th>701</th>\n",
       "      <td>Rossy_393K</td>\n",
       "      <td>14</td>\n",
       "      <td>1</td>\n",
       "      <td>0.071429</td>\n",
       "    </tr>\n",
       "    <tr>\n",
       "      <th>702</th>\n",
       "      <td>citifmonline</td>\n",
       "      <td>1972</td>\n",
       "      <td>3444</td>\n",
       "      <td>1.746450</td>\n",
       "    </tr>\n",
       "    <tr>\n",
       "      <th>703</th>\n",
       "      <td>DaveQuartey</td>\n",
       "      <td>17</td>\n",
       "      <td>58</td>\n",
       "      <td>3.411765</td>\n",
       "    </tr>\n",
       "    <tr>\n",
       "      <th>704</th>\n",
       "      <td>IAMFORMAHAMA</td>\n",
       "      <td>110</td>\n",
       "      <td>762</td>\n",
       "      <td>6.927273</td>\n",
       "    </tr>\n",
       "    <tr>\n",
       "      <th>705</th>\n",
       "      <td>AntobamKojo</td>\n",
       "      <td>19</td>\n",
       "      <td>5</td>\n",
       "      <td>0.263158</td>\n",
       "    </tr>\n",
       "    <tr>\n",
       "      <th>706</th>\n",
       "      <td>NsoGhanaY3</td>\n",
       "      <td>14</td>\n",
       "      <td>4</td>\n",
       "      <td>0.285714</td>\n",
       "    </tr>\n",
       "    <tr>\n",
       "      <th>707</th>\n",
       "      <td>Uptown_energy_1</td>\n",
       "      <td>20</td>\n",
       "      <td>1</td>\n",
       "      <td>0.050000</td>\n",
       "    </tr>\n",
       "    <tr>\n",
       "      <th>708</th>\n",
       "      <td>fnnghana</td>\n",
       "      <td>33</td>\n",
       "      <td>1</td>\n",
       "      <td>0.030303</td>\n",
       "    </tr>\n",
       "    <tr>\n",
       "      <th>709</th>\n",
       "      <td>noblehayford</td>\n",
       "      <td>54</td>\n",
       "      <td>39</td>\n",
       "      <td>0.722222</td>\n",
       "    </tr>\n",
       "    <tr>\n",
       "      <th>710</th>\n",
       "      <td>CapeCoastCon</td>\n",
       "      <td>75</td>\n",
       "      <td>11</td>\n",
       "      <td>0.146667</td>\n",
       "    </tr>\n",
       "    <tr>\n",
       "      <th>711</th>\n",
       "      <td>mckenzieGhana</td>\n",
       "      <td>82</td>\n",
       "      <td>95</td>\n",
       "      <td>1.158537</td>\n",
       "    </tr>\n",
       "    <tr>\n",
       "      <th>712</th>\n",
       "      <td>MacJordaN</td>\n",
       "      <td>48</td>\n",
       "      <td>455</td>\n",
       "      <td>9.479167</td>\n",
       "    </tr>\n",
       "    <tr>\n",
       "      <th>713</th>\n",
       "      <td>KingDezgh</td>\n",
       "      <td>79</td>\n",
       "      <td>0</td>\n",
       "      <td>0.000000</td>\n",
       "    </tr>\n",
       "    <tr>\n",
       "      <th>714</th>\n",
       "      <td>GoGhana2016</td>\n",
       "      <td>28</td>\n",
       "      <td>274</td>\n",
       "      <td>9.785714</td>\n",
       "    </tr>\n",
       "    <tr>\n",
       "      <th>715</th>\n",
       "      <td>sethoodeboss</td>\n",
       "      <td>49</td>\n",
       "      <td>21</td>\n",
       "      <td>0.428571</td>\n",
       "    </tr>\n",
       "    <tr>\n",
       "      <th>716</th>\n",
       "      <td>Akromah35</td>\n",
       "      <td>51</td>\n",
       "      <td>32</td>\n",
       "      <td>0.627451</td>\n",
       "    </tr>\n",
       "    <tr>\n",
       "      <th>717</th>\n",
       "      <td>kbeegh</td>\n",
       "      <td>88</td>\n",
       "      <td>0</td>\n",
       "      <td>0.000000</td>\n",
       "    </tr>\n",
       "    <tr>\n",
       "      <th>718</th>\n",
       "      <td>phine51</td>\n",
       "      <td>25</td>\n",
       "      <td>6</td>\n",
       "      <td>0.240000</td>\n",
       "    </tr>\n",
       "    <tr>\n",
       "      <th>719</th>\n",
       "      <td>skkutu</td>\n",
       "      <td>20</td>\n",
       "      <td>25</td>\n",
       "      <td>1.250000</td>\n",
       "    </tr>\n",
       "    <tr>\n",
       "      <th>720</th>\n",
       "      <td>justSamli</td>\n",
       "      <td>17</td>\n",
       "      <td>9</td>\n",
       "      <td>0.529412</td>\n",
       "    </tr>\n",
       "    <tr>\n",
       "      <th>721</th>\n",
       "      <td>IamLilBygone</td>\n",
       "      <td>25</td>\n",
       "      <td>265</td>\n",
       "      <td>10.600000</td>\n",
       "    </tr>\n",
       "    <tr>\n",
       "      <th>722</th>\n",
       "      <td>auntesophia</td>\n",
       "      <td>49</td>\n",
       "      <td>22</td>\n",
       "      <td>0.448980</td>\n",
       "    </tr>\n",
       "    <tr>\n",
       "      <th>723</th>\n",
       "      <td>employmentgh</td>\n",
       "      <td>59</td>\n",
       "      <td>86</td>\n",
       "      <td>1.457627</td>\n",
       "    </tr>\n",
       "    <tr>\n",
       "      <th>724</th>\n",
       "      <td>chriscare8</td>\n",
       "      <td>11</td>\n",
       "      <td>3</td>\n",
       "      <td>0.272727</td>\n",
       "    </tr>\n",
       "    <tr>\n",
       "      <th>725</th>\n",
       "      <td>eugeniatenkoran</td>\n",
       "      <td>11</td>\n",
       "      <td>49</td>\n",
       "      <td>4.454545</td>\n",
       "    </tr>\n",
       "  </tbody>\n",
       "</table>\n",
       "<p>726 rows × 4 columns</p>\n",
       "</div>"
      ],
      "text/plain": [
       "          Twitter Id  Tweet Count  Tweet Score  Avg Score Per Tweet\n",
       "0    OJSarpong        61           56           0.918033           \n",
       "1    Rosakum3         20           7            0.350000           \n",
       "2    atajohn6         31           11           0.354839           \n",
       "3    AStella2131      74           0            0.000000           \n",
       "4    PaakowEghan      12           32           2.666667           \n",
       "5    sYzirO1          16           10           0.625000           \n",
       "6    WarrenCFC        16           72           4.500000           \n",
       "7    ElectionNetwork  12           66           5.500000           \n",
       "8    Beekie75         35           10           0.285714           \n",
       "9    BBB_De_engineer  78           0            0.000000           \n",
       "10   adabee_          21           45           2.142857           \n",
       "11   iameyram         16           22           1.375000           \n",
       "12   AmpomaAdu        19           10           0.526316           \n",
       "13   Okay1017fm       70           160          2.285714           \n",
       "14   Appiah591        17           4            0.235294           \n",
       "15   GeoHashTrend     33           183          5.545455           \n",
       "16   ghanafeeds       14           1            0.071429           \n",
       "17   Victormk45       64           65           1.015625           \n",
       "18   Stewardmens      48           26           0.541667           \n",
       "19   Olandokee        26           6            0.230769           \n",
       "20   saminukanti      11           12           1.090909           \n",
       "21   kkson23          18           10           0.555556           \n",
       "22   DoSomething_GH   33           10           0.303030           \n",
       "23   yaw_aafriyie     16           8            0.500000           \n",
       "24   ElvyssB          11           99           9.000000           \n",
       "25   cutie_akoma      84           1            0.011905           \n",
       "26   Kwabena          29           281          9.689655           \n",
       "27   BeeNarki1        15           1            0.066667           \n",
       "28   nadsayshares     14           36           2.571429           \n",
       "29   otumfournana     36           8            0.222222           \n",
       "..            ...     ..          ..                 ...           \n",
       "696  DJPutinGh        22           2            0.090909           \n",
       "697  afia_agyeiwaah   53           20           0.377358           \n",
       "698  allmediagh       237          1009         4.257384           \n",
       "699  oseiwaa2         17           13           0.764706           \n",
       "700  PunchlineAfric   18           141          7.833333           \n",
       "701  Rossy_393K       14           1            0.071429           \n",
       "702  citifmonline     1972         3444         1.746450           \n",
       "703  DaveQuartey      17           58           3.411765           \n",
       "704  IAMFORMAHAMA     110          762          6.927273           \n",
       "705  AntobamKojo      19           5            0.263158           \n",
       "706  NsoGhanaY3       14           4            0.285714           \n",
       "707  Uptown_energy_1  20           1            0.050000           \n",
       "708  fnnghana         33           1            0.030303           \n",
       "709  noblehayford     54           39           0.722222           \n",
       "710  CapeCoastCon     75           11           0.146667           \n",
       "711  mckenzieGhana    82           95           1.158537           \n",
       "712  MacJordaN        48           455          9.479167           \n",
       "713  KingDezgh        79           0            0.000000           \n",
       "714  GoGhana2016      28           274          9.785714           \n",
       "715  sethoodeboss     49           21           0.428571           \n",
       "716  Akromah35        51           32           0.627451           \n",
       "717  kbeegh           88           0            0.000000           \n",
       "718  phine51          25           6            0.240000           \n",
       "719  skkutu           20           25           1.250000           \n",
       "720  justSamli        17           9            0.529412           \n",
       "721  IamLilBygone     25           265          10.600000          \n",
       "722  auntesophia      49           22           0.448980           \n",
       "723  employmentgh     59           86           1.457627           \n",
       "724  chriscare8       11           3            0.272727           \n",
       "725  eugeniatenkoran  11           49           4.454545           \n",
       "\n",
       "[726 rows x 4 columns]"
      ]
     },
     "execution_count": 43,
     "metadata": {},
     "output_type": "execute_result"
    }
   ],
   "source": [
    "top_users['Avg Score Per Tweet'] = top_users['Tweet Score'] / top_users['Tweet Count']\n",
    "top_users_df = top_users.to_dataframe()\n",
    "top_users_df"
   ]
  },
  {
   "cell_type": "markdown",
   "metadata": {},
   "source": [
    "### Based on Tweet Count"
   ]
  },
  {
   "cell_type": "code",
   "execution_count": 44,
   "metadata": {
    "collapsed": false
   },
   "outputs": [
    {
     "data": {
      "image/png": "[encoded data removed]",
      "text/plain": [
       "<matplotlib.figure.Figure at 0x1286bbc90>"
      ]
     },
     "metadata": {},
     "output_type": "display_data"
    }
   ],
   "source": [
    "top_users_df = top_users_df.sort_values(by=['Tweet Count'], ascending=False)\n",
    "top_users_df.reset_index(drop=True, inplace=True)\n",
    "top_users_df.index += 1\n",
    "users_count = top_users_df[:10]\n",
    "users_count = users_count.sort_values('Tweet Count')\n",
    "ax = users_count.plot(x='Twitter Id', y='Tweet Count', kind='barh', colormap='Accent', \n",
    "                          title='Tweet Count of Users', figsize=(6, 4))"
   ]
  },
  {
   "cell_type": "code",
   "execution_count": 45,
   "metadata": {
    "collapsed": true
   },
   "outputs": [],
   "source": [
    "fig = ax.get_figure()\n",
    "fig.tight_layout()\n",
    "fig.savefig('plots/tweets_users_count.png', dpi=200)"
   ]
  },
  {
   "cell_type": "markdown",
   "metadata": {},
   "source": [
    "### Based on Tweet Score"
   ]
  },
  {
   "cell_type": "code",
   "execution_count": 46,
   "metadata": {
    "collapsed": false,
    "scrolled": true
   },
   "outputs": [
    {
     "data": {
      "image/png": "[encoded data removed]",
      "text/plain": [
       "<matplotlib.figure.Figure at 0x120ded6d0>"
      ]
     },
     "metadata": {},
     "output_type": "display_data"
    }
   ],
   "source": [
    "top_users_df = top_users_df.sort_values(by=['Tweet Score'], ascending=False)\n",
    "top_users_df.reset_index(drop=True, inplace=True)\n",
    "top_users_df.index += 1\n",
    "users_score = top_users_df[:10]\n",
    "users_score = users_score.sort_values('Tweet Score')\n",
    "ax = users_score.plot(x='Twitter Id', y='Tweet Score', kind='barh', colormap='Accent', \n",
    "                          title='Cummulative Tweet Score of Users', figsize=(6, 4))"
   ]
  },
  {
   "cell_type": "code",
   "execution_count": 47,
   "metadata": {
    "collapsed": true
   },
   "outputs": [],
   "source": [
    "fig = ax.get_figure()\n",
    "fig.tight_layout()\n",
    "fig.savefig('plots/tweets_users_score.png', dpi=200)"
   ]
  },
  {
   "cell_type": "markdown",
   "metadata": {},
   "source": [
    "### Based on Avg Score Per Tweet"
   ]
  },
  {
   "cell_type": "code",
   "execution_count": 48,
   "metadata": {
    "collapsed": false
   },
   "outputs": [
    {
     "data": {
      "image/png": "[encoded data removed]",
      "text/plain": [
       "<matplotlib.figure.Figure at 0x120ded9d0>"
      ]
     },
     "metadata": {},
     "output_type": "display_data"
    }
   ],
   "source": [
    "top_users_df = top_users_df.sort_values(by=['Avg Score Per Tweet'], ascending=False)\n",
    "top_users_df.reset_index(drop=True, inplace=True)\n",
    "top_users_df.index += 1\n",
    "users_avg_score = top_users_df[:10]\n",
    "users_avg_score = users_avg_score.sort_values('Avg Score Per Tweet')\n",
    "ax = users_avg_score.plot(x='Twitter Id', y='Avg Score Per Tweet', kind='barh', colormap='Accent', \n",
    "                          title='Avg Score Per Tweet of Users', figsize=(6, 4))"
   ]
  },
  {
   "cell_type": "code",
   "execution_count": 49,
   "metadata": {
    "collapsed": false
   },
   "outputs": [],
   "source": [
    "fig = ax.get_figure()\n",
    "fig.tight_layout()\n",
    "fig.savefig('plots/tweets_users_avg_score.png', dpi=200)"
   ]
  },
  {
   "cell_type": "markdown",
   "metadata": {},
   "source": [
    "## Top hashtags"
   ]
  },
  {
   "cell_type": "code",
   "execution_count": 50,
   "metadata": {
    "collapsed": false
   },
   "outputs": [],
   "source": [
    "top_hashtags = tweets.groupby(key_columns='hashtag', \n",
    "                           operations={'Count': gl.aggregate.COUNT(), \n",
    "                                       'Score': gl.aggregate.SUM('score'),\n",
    "                                       'Avg Score': gl.aggregate.MEAN('score')\n",
    "                                      })\n",
    "top_hashtags.rename({'hashtag': 'Hashtag'})\n",
    "top_hashtags_df = top_hashtags.to_dataframe()\n",
    "top_hashtags_df.sort_values('Avg Score', ascending=True, inplace=True)"
   ]
  },
  {
   "cell_type": "code",
   "execution_count": 51,
   "metadata": {
    "collapsed": false
   },
   "outputs": [
    {
     "data": {
      "image/png": "[encoded data removed]",
      "text/plain": [
       "<matplotlib.figure.Figure at 0x122558950>"
      ]
     },
     "metadata": {},
     "output_type": "display_data"
    }
   ],
   "source": [
    "ax = top_hashtags_df.plot(x='Hashtag', y='Avg Score', kind='barh', colormap='Pastel1',\n",
    "                    title='Avg Score of Tweets in Hashtags', figsize=(6, 4))"
   ]
  },
  {
   "cell_type": "code",
   "execution_count": 52,
   "metadata": {
    "collapsed": true
   },
   "outputs": [],
   "source": [
    "fig = ax.get_figure()\n",
    "fig.tight_layout()\n",
    "fig.savefig('plots/tweets_hashtag_score.png', dpi=200)"
   ]
  },
  {
   "cell_type": "markdown",
   "metadata": {
    "collapsed": true
   },
   "source": [
    "## Sentiment Polarity"
   ]
  },
  {
   "cell_type": "code",
   "execution_count": 53,
   "metadata": {
    "collapsed": true
   },
   "outputs": [],
   "source": [
    "sentiments = tweets[['sentiment']].groupby(['sentiment'], [gl.aggregate.COUNT()])"
   ]
  },
  {
   "cell_type": "code",
   "execution_count": 54,
   "metadata": {
    "collapsed": false
   },
   "outputs": [
    {
     "data": {
      "image/png": "[encoded data removed]",
      "text/plain": [
       "<matplotlib.figure.Figure at 0x1219d2a10>"
      ]
     },
     "metadata": {},
     "output_type": "display_data"
    }
   ],
   "source": [
    "plt.pie(sentiments['Count'], labels=sentiments['sentiment'], \n",
    "        colors=['#DECF3F', '#60BD68', '#F15854'], explode = (0, 0.1, 0),\n",
    "        autopct='%1.1f%%'\n",
    "       )\n",
    "plt.axis('off')\n",
    "plt.savefig('plots/tweets_sentiment.png', dpi=300)\n",
    "plt.show()"
   ]
  },
  {
   "cell_type": "markdown",
   "metadata": {},
   "source": [
    "### Sentiment by hashtags"
   ]
  },
  {
   "cell_type": "code",
   "execution_count": 55,
   "metadata": {
    "collapsed": false
   },
   "outputs": [],
   "source": [
    "df_tweets = tweets.to_dataframe()"
   ]
  },
  {
   "cell_type": "code",
   "execution_count": 56,
   "metadata": {
    "collapsed": false
   },
   "outputs": [],
   "source": [
    "neg_tweets = tweets.filter_by('negative', column_name='sentiment')\n",
    "neg_tweets = neg_tweets.groupby(['hashtag'], {'Negative Tweets': gl.aggregate.COUNT()})"
   ]
  },
  {
   "cell_type": "code",
   "execution_count": 57,
   "metadata": {
    "collapsed": false
   },
   "outputs": [],
   "source": [
    "pos_tweets = tweets.filter_by('positive', column_name='sentiment')\n",
    "pos_tweets = pos_tweets.groupby(['hashtag'], {'Positive Tweets': gl.aggregate.COUNT()})"
   ]
  },
  {
   "cell_type": "code",
   "execution_count": 58,
   "metadata": {
    "collapsed": false
   },
   "outputs": [],
   "source": [
    "neu_tweets = tweets.filter_by('neutral', column_name='sentiment')\n",
    "neu_tweets = neu_tweets.groupby(['hashtag'], {'Neutral Tweets': gl.aggregate.COUNT()})"
   ]
  },
  {
   "cell_type": "code",
   "execution_count": 59,
   "metadata": {
    "collapsed": false
   },
   "outputs": [
    {
     "data": {
      "text/html": [
       "<div style=\"max-height:1000px;max-width:1500px;overflow:auto;\"><table frame=\"box\" rules=\"cols\">\n",
       "    <tr>\n",
       "        <th style=\"padding-left: 1em; padding-right: 1em; text-align: center\">hashtag</th>\n",
       "        <th style=\"padding-left: 1em; padding-right: 1em; text-align: center\">Positive Tweets</th>\n",
       "        <th style=\"padding-left: 1em; padding-right: 1em; text-align: center\">Neutral Tweets</th>\n",
       "        <th style=\"padding-left: 1em; padding-right: 1em; text-align: center\">Negative Tweets</th>\n",
       "    </tr>\n",
       "    <tr>\n",
       "        <td style=\"padding-left: 1em; padding-right: 1em; text-align: center; vertical-align: top\">TransformingGhana</td>\n",
       "        <td style=\"padding-left: 1em; padding-right: 1em; text-align: center; vertical-align: top\">1007</td>\n",
       "        <td style=\"padding-left: 1em; padding-right: 1em; text-align: center; vertical-align: top\">144</td>\n",
       "        <td style=\"padding-left: 1em; padding-right: 1em; text-align: center; vertical-align: top\">75</td>\n",
       "    </tr>\n",
       "    <tr>\n",
       "        <td style=\"padding-left: 1em; padding-right: 1em; text-align: center; vertical-align: top\">JMToaso</td>\n",
       "        <td style=\"padding-left: 1em; padding-right: 1em; text-align: center; vertical-align: top\">6961</td>\n",
       "        <td style=\"padding-left: 1em; padding-right: 1em; text-align: center; vertical-align: top\">2669</td>\n",
       "        <td style=\"padding-left: 1em; padding-right: 1em; text-align: center; vertical-align: top\">586</td>\n",
       "    </tr>\n",
       "    <tr>\n",
       "        <td style=\"padding-left: 1em; padding-right: 1em; text-align: center; vertical-align: top\">VoteForChange</td>\n",
       "        <td style=\"padding-left: 1em; padding-right: 1em; text-align: center; vertical-align: top\">1560</td>\n",
       "        <td style=\"padding-left: 1em; padding-right: 1em; text-align: center; vertical-align: top\">893</td>\n",
       "        <td style=\"padding-left: 1em; padding-right: 1em; text-align: center; vertical-align: top\">338</td>\n",
       "    </tr>\n",
       "    <tr>\n",
       "        <td style=\"padding-left: 1em; padding-right: 1em; text-align: center; vertical-align: top\">VoteAkufoAddo</td>\n",
       "        <td style=\"padding-left: 1em; padding-right: 1em; text-align: center; vertical-align: top\">2099</td>\n",
       "        <td style=\"padding-left: 1em; padding-right: 1em; text-align: center; vertical-align: top\">722</td>\n",
       "        <td style=\"padding-left: 1em; padding-right: 1em; text-align: center; vertical-align: top\">369</td>\n",
       "    </tr>\n",
       "    <tr>\n",
       "        <td style=\"padding-left: 1em; padding-right: 1em; text-align: center; vertical-align: top\">GhanaDecides</td>\n",
       "        <td style=\"padding-left: 1em; padding-right: 1em; text-align: center; vertical-align: top\">6920</td>\n",
       "        <td style=\"padding-left: 1em; padding-right: 1em; text-align: center; vertical-align: top\">1317</td>\n",
       "        <td style=\"padding-left: 1em; padding-right: 1em; text-align: center; vertical-align: top\">955</td>\n",
       "    </tr>\n",
       "    <tr>\n",
       "        <td style=\"padding-left: 1em; padding-right: 1em; text-align: center; vertical-align: top\">VoteJM2016</td>\n",
       "        <td style=\"padding-left: 1em; padding-right: 1em; text-align: center; vertical-align: top\">1482</td>\n",
       "        <td style=\"padding-left: 1em; padding-right: 1em; text-align: center; vertical-align: top\">503</td>\n",
       "        <td style=\"padding-left: 1em; padding-right: 1em; text-align: center; vertical-align: top\">106</td>\n",
       "    </tr>\n",
       "    <tr>\n",
       "        <td style=\"padding-left: 1em; padding-right: 1em; text-align: center; vertical-align: top\">Vote4Change</td>\n",
       "        <td style=\"padding-left: 1em; padding-right: 1em; text-align: center; vertical-align: top\">9</td>\n",
       "        <td style=\"padding-left: 1em; padding-right: 1em; text-align: center; vertical-align: top\">10</td>\n",
       "        <td style=\"padding-left: 1em; padding-right: 1em; text-align: center; vertical-align: top\">1</td>\n",
       "    </tr>\n",
       "    <tr>\n",
       "        <td style=\"padding-left: 1em; padding-right: 1em; text-align: center; vertical-align: top\">Kalyppo</td>\n",
       "        <td style=\"padding-left: 1em; padding-right: 1em; text-align: center; vertical-align: top\">915</td>\n",
       "        <td style=\"padding-left: 1em; padding-right: 1em; text-align: center; vertical-align: top\">301</td>\n",
       "        <td style=\"padding-left: 1em; padding-right: 1em; text-align: center; vertical-align: top\">146</td>\n",
       "    </tr>\n",
       "    <tr>\n",
       "        <td style=\"padding-left: 1em; padding-right: 1em; text-align: center; vertical-align: top\">ChooseChange</td>\n",
       "        <td style=\"padding-left: 1em; padding-right: 1em; text-align: center; vertical-align: top\">1813</td>\n",
       "        <td style=\"padding-left: 1em; padding-right: 1em; text-align: center; vertical-align: top\">1025</td>\n",
       "        <td style=\"padding-left: 1em; padding-right: 1em; text-align: center; vertical-align: top\">559</td>\n",
       "    </tr>\n",
       "    <tr>\n",
       "        <td style=\"padding-left: 1em; padding-right: 1em; text-align: center; vertical-align: top\">GhElections</td>\n",
       "        <td style=\"padding-left: 1em; padding-right: 1em; text-align: center; vertical-align: top\">12006</td>\n",
       "        <td style=\"padding-left: 1em; padding-right: 1em; text-align: center; vertical-align: top\">2261</td>\n",
       "        <td style=\"padding-left: 1em; padding-right: 1em; text-align: center; vertical-align: top\">2875</td>\n",
       "    </tr>\n",
       "</table>\n",
       "[12 rows x 4 columns]<br/>Note: Only the head of the SFrame is printed.<br/>You can use print_rows(num_rows=m, num_columns=n) to print more rows and columns.\n",
       "</div>"
      ],
      "text/plain": [
       "Columns:\n",
       "\thashtag\tstr\n",
       "\tPositive Tweets\tint\n",
       "\tNeutral Tweets\tint\n",
       "\tNegative Tweets\tint\n",
       "\n",
       "Rows: 12\n",
       "\n",
       "Data:\n",
       "+-------------------+-----------------+----------------+-----------------+\n",
       "|      hashtag      | Positive Tweets | Neutral Tweets | Negative Tweets |\n",
       "+-------------------+-----------------+----------------+-----------------+\n",
       "| TransformingGhana |       1007      |      144       |        75       |\n",
       "|      JMToaso      |       6961      |      2669      |       586       |\n",
       "|   VoteForChange   |       1560      |      893       |       338       |\n",
       "|   VoteAkufoAddo   |       2099      |      722       |       369       |\n",
       "|    GhanaDecides   |       6920      |      1317      |       955       |\n",
       "|     VoteJM2016    |       1482      |      503       |       106       |\n",
       "|    Vote4Change    |        9        |       10       |        1        |\n",
       "|      Kalyppo      |       915       |      301       |       146       |\n",
       "|    ChooseChange   |       1813      |      1025      |       559       |\n",
       "|    GhElections    |      12006      |      2261      |       2875      |\n",
       "+-------------------+-----------------+----------------+-----------------+\n",
       "[12 rows x 4 columns]\n",
       "Note: Only the head of the SFrame is printed.\n",
       "You can use print_rows(num_rows=m, num_columns=n) to print more rows and columns."
      ]
     },
     "execution_count": 59,
     "metadata": {},
     "output_type": "execute_result"
    }
   ],
   "source": [
    "pos_tweets.add_columns(neu_tweets[['Neutral Tweets']])\n",
    "pos_tweets.add_columns(neg_tweets[['Negative Tweets']])"
   ]
  },
  {
   "cell_type": "code",
   "execution_count": 60,
   "metadata": {
    "collapsed": true
   },
   "outputs": [],
   "source": [
    "hashtag_sentiment = pos_tweets.to_dataframe()"
   ]
  },
  {
   "cell_type": "code",
   "execution_count": 61,
   "metadata": {
    "collapsed": false
   },
   "outputs": [
    {
     "data": {
      "image/png": "[encoded data removed]",
      "text/plain": [
       "<matplotlib.figure.Figure at 0x1213e45d0>"
      ]
     },
     "metadata": {},
     "output_type": "display_data"
    }
   ],
   "source": [
    "ax = hashtag_sentiment.plot.barh(x='hashtag', stacked='True',\n",
    "                            color=['#60BD68', '#DECF3F', '#F15854'], \n",
    "                            title='Sentiment Polarity For Hashtags',\n",
    "                                )\n",
    "fig = ax.get_figure()\n",
    "fig.tight_layout()\n",
    "fig.savefig('plots/tweets_hashtag_sentiment.png', dpi=200)"
   ]
  },
  {
   "cell_type": "markdown",
   "metadata": {},
   "source": [
    "## Emotion displayed"
   ]
  },
  {
   "cell_type": "code",
   "execution_count": 62,
   "metadata": {
    "collapsed": false
   },
   "outputs": [],
   "source": [
    "emotions = tweets[['emotion']].groupby(['emotion'], [gl.aggregate.COUNT()])\n",
    "df_emotions = emotions.to_dataframe()"
   ]
  },
  {
   "cell_type": "code",
   "execution_count": 63,
   "metadata": {
    "collapsed": false
   },
   "outputs": [
    {
     "data": {
      "image/png": "[encoded data removed]",
      "text/plain": [
       "<matplotlib.figure.Figure at 0x12279d990>"
      ]
     },
     "metadata": {},
     "output_type": "display_data"
    }
   ],
   "source": [
    "ax = df_emotions.plot.bar(x='emotion', color=['#60BD68', '#DECF3F', '#5DA5DA', '#F15854', '#FAA43A',\n",
    "                                              '#B276B2', '#F17CB0', '#4D4D4D'\n",
    "                                             ],\n",
    "                          title='Emotion Displayed In All Tweets',\n",
    "                          legend=False,rot=0\n",
    "                        )\n",
    "ax.set_ylabel(\"Count\")\n",
    "ax.set_xlabel(\"Emotion\")\n",
    "fig = ax.get_figure()\n",
    "fig.tight_layout()\n",
    "fig.savefig('plots/tweets_emotions.png', dpi=200)"
   ]
  },
  {
   "cell_type": "markdown",
   "metadata": {},
   "source": [
    "### Emotion displayed by Political Party"
   ]
  },
  {
   "cell_type": "code",
   "execution_count": 64,
   "metadata": {
    "collapsed": true
   },
   "outputs": [],
   "source": [
    "ndc = tweets.filter_by(['VoteforJMnumber3', 'Vote4JM', 'JMToaso', 'VoteJM2016', 'TransformingGhana', 'ChangingLives'], \n",
    "                       column_name='hashtag')\n",
    "npp = tweets.filter_by(['VoteAkufoAddo', 'VoteNPP', 'VoteForChange', 'ChooseChange', 'Kalyppo', 'Vote4Change'], column_name='hashtag')"
   ]
  },
  {
   "cell_type": "code",
   "execution_count": 65,
   "metadata": {
    "collapsed": true
   },
   "outputs": [],
   "source": [
    "ndc_emotions = ndc[['emotion']].groupby(['emotion'], {'NDC': gl.aggregate.COUNT()})\n",
    "df_ndc_emotions = ndc_emotions.to_dataframe()\n",
    "\n",
    "npp_emotions = npp[['emotion']].groupby(['emotion'], {'NPP': gl.aggregate.COUNT()})\n",
    "df_npp_emotions = npp_emotions.to_dataframe()"
   ]
  },
  {
   "cell_type": "code",
   "execution_count": 66,
   "metadata": {
    "collapsed": false
   },
   "outputs": [
    {
     "data": {
      "text/html": [
       "<div style=\"max-height:1000px;max-width:1500px;overflow:auto;\"><table frame=\"box\" rules=\"cols\">\n",
       "    <tr>\n",
       "        <th style=\"padding-left: 1em; padding-right: 1em; text-align: center\">emotion</th>\n",
       "        <th style=\"padding-left: 1em; padding-right: 1em; text-align: center\">NDC</th>\n",
       "    </tr>\n",
       "    <tr>\n",
       "        <td style=\"padding-left: 1em; padding-right: 1em; text-align: center; vertical-align: top\">joy</td>\n",
       "        <td style=\"padding-left: 1em; padding-right: 1em; text-align: center; vertical-align: top\">7014</td>\n",
       "    </tr>\n",
       "    <tr>\n",
       "        <td style=\"padding-left: 1em; padding-right: 1em; text-align: center; vertical-align: top\">anticipation</td>\n",
       "        <td style=\"padding-left: 1em; padding-right: 1em; text-align: center; vertical-align: top\">5905</td>\n",
       "    </tr>\n",
       "    <tr>\n",
       "        <td style=\"padding-left: 1em; padding-right: 1em; text-align: center; vertical-align: top\">trust</td>\n",
       "        <td style=\"padding-left: 1em; padding-right: 1em; text-align: center; vertical-align: top\">5274</td>\n",
       "    </tr>\n",
       "    <tr>\n",
       "        <td style=\"padding-left: 1em; padding-right: 1em; text-align: center; vertical-align: top\">disgust</td>\n",
       "        <td style=\"padding-left: 1em; padding-right: 1em; text-align: center; vertical-align: top\">2252</td>\n",
       "    </tr>\n",
       "    <tr>\n",
       "        <td style=\"padding-left: 1em; padding-right: 1em; text-align: center; vertical-align: top\">fear</td>\n",
       "        <td style=\"padding-left: 1em; padding-right: 1em; text-align: center; vertical-align: top\">2226</td>\n",
       "    </tr>\n",
       "    <tr>\n",
       "        <td style=\"padding-left: 1em; padding-right: 1em; text-align: center; vertical-align: top\">anger</td>\n",
       "        <td style=\"padding-left: 1em; padding-right: 1em; text-align: center; vertical-align: top\">1934</td>\n",
       "    </tr>\n",
       "    <tr>\n",
       "        <td style=\"padding-left: 1em; padding-right: 1em; text-align: center; vertical-align: top\">surprise</td>\n",
       "        <td style=\"padding-left: 1em; padding-right: 1em; text-align: center; vertical-align: top\">1323</td>\n",
       "    </tr>\n",
       "    <tr>\n",
       "        <td style=\"padding-left: 1em; padding-right: 1em; text-align: center; vertical-align: top\">sadness</td>\n",
       "        <td style=\"padding-left: 1em; padding-right: 1em; text-align: center; vertical-align: top\">1028</td>\n",
       "    </tr>\n",
       "</table>\n",
       "[8 rows x 2 columns]<br/>\n",
       "</div>"
      ],
      "text/plain": [
       "Columns:\n",
       "\temotion\tstr\n",
       "\tNDC\tint\n",
       "\n",
       "Rows: 8\n",
       "\n",
       "Data:\n",
       "+--------------+------+\n",
       "|   emotion    | NDC  |\n",
       "+--------------+------+\n",
       "|     joy      | 7014 |\n",
       "| anticipation | 5905 |\n",
       "|    trust     | 5274 |\n",
       "|   disgust    | 2252 |\n",
       "|     fear     | 2226 |\n",
       "|    anger     | 1934 |\n",
       "|   surprise   | 1323 |\n",
       "|   sadness    | 1028 |\n",
       "+--------------+------+\n",
       "[8 rows x 2 columns]"
      ]
     },
     "execution_count": 66,
     "metadata": {},
     "output_type": "execute_result"
    }
   ],
   "source": [
    "ndc_emotions.sort('NDC', ascending=False)"
   ]
  },
  {
   "cell_type": "code",
   "execution_count": 67,
   "metadata": {
    "collapsed": false
   },
   "outputs": [
    {
     "data": {
      "text/html": [
       "<div style=\"max-height:1000px;max-width:1500px;overflow:auto;\"><table frame=\"box\" rules=\"cols\">\n",
       "    <tr>\n",
       "        <th style=\"padding-left: 1em; padding-right: 1em; text-align: center\">emotion</th>\n",
       "        <th style=\"padding-left: 1em; padding-right: 1em; text-align: center\">NPP</th>\n",
       "    </tr>\n",
       "    <tr>\n",
       "        <td style=\"padding-left: 1em; padding-right: 1em; text-align: center; vertical-align: top\">surprise</td>\n",
       "        <td style=\"padding-left: 1em; padding-right: 1em; text-align: center; vertical-align: top\">6295</td>\n",
       "    </tr>\n",
       "    <tr>\n",
       "        <td style=\"padding-left: 1em; padding-right: 1em; text-align: center; vertical-align: top\">fear</td>\n",
       "        <td style=\"padding-left: 1em; padding-right: 1em; text-align: center; vertical-align: top\">1253</td>\n",
       "    </tr>\n",
       "    <tr>\n",
       "        <td style=\"padding-left: 1em; padding-right: 1em; text-align: center; vertical-align: top\">trust</td>\n",
       "        <td style=\"padding-left: 1em; padding-right: 1em; text-align: center; vertical-align: top\">1200</td>\n",
       "    </tr>\n",
       "    <tr>\n",
       "        <td style=\"padding-left: 1em; padding-right: 1em; text-align: center; vertical-align: top\">sadness</td>\n",
       "        <td style=\"padding-left: 1em; padding-right: 1em; text-align: center; vertical-align: top\">1027</td>\n",
       "    </tr>\n",
       "    <tr>\n",
       "        <td style=\"padding-left: 1em; padding-right: 1em; text-align: center; vertical-align: top\">joy</td>\n",
       "        <td style=\"padding-left: 1em; padding-right: 1em; text-align: center; vertical-align: top\">855</td>\n",
       "    </tr>\n",
       "    <tr>\n",
       "        <td style=\"padding-left: 1em; padding-right: 1em; text-align: center; vertical-align: top\">anger</td>\n",
       "        <td style=\"padding-left: 1em; padding-right: 1em; text-align: center; vertical-align: top\">841</td>\n",
       "    </tr>\n",
       "    <tr>\n",
       "        <td style=\"padding-left: 1em; padding-right: 1em; text-align: center; vertical-align: top\">disgust</td>\n",
       "        <td style=\"padding-left: 1em; padding-right: 1em; text-align: center; vertical-align: top\">502</td>\n",
       "    </tr>\n",
       "    <tr>\n",
       "        <td style=\"padding-left: 1em; padding-right: 1em; text-align: center; vertical-align: top\">anticipation</td>\n",
       "        <td style=\"padding-left: 1em; padding-right: 1em; text-align: center; vertical-align: top\">228</td>\n",
       "    </tr>\n",
       "</table>\n",
       "[8 rows x 2 columns]<br/>\n",
       "</div>"
      ],
      "text/plain": [
       "Columns:\n",
       "\temotion\tstr\n",
       "\tNPP\tint\n",
       "\n",
       "Rows: 8\n",
       "\n",
       "Data:\n",
       "+--------------+------+\n",
       "|   emotion    | NPP  |\n",
       "+--------------+------+\n",
       "|   surprise   | 6295 |\n",
       "|     fear     | 1253 |\n",
       "|    trust     | 1200 |\n",
       "|   sadness    | 1027 |\n",
       "|     joy      | 855  |\n",
       "|    anger     | 841  |\n",
       "|   disgust    | 502  |\n",
       "| anticipation | 228  |\n",
       "+--------------+------+\n",
       "[8 rows x 2 columns]"
      ]
     },
     "execution_count": 67,
     "metadata": {},
     "output_type": "execute_result"
    }
   ],
   "source": [
    "npp_emotions.sort('NPP', ascending=False)"
   ]
  },
  {
   "cell_type": "code",
   "execution_count": 68,
   "metadata": {
    "collapsed": false
   },
   "outputs": [],
   "source": [
    "party_emotions = ndc_emotions.add_columns(npp_emotions[['NPP']])"
   ]
  },
  {
   "cell_type": "code",
   "execution_count": 69,
   "metadata": {
    "collapsed": false
   },
   "outputs": [
    {
     "data": {
      "text/html": [
       "<div>\n",
       "<table border=\"1\" class=\"dataframe\">\n",
       "  <thead>\n",
       "    <tr style=\"text-align: right;\">\n",
       "      <th></th>\n",
       "      <th>emotion</th>\n",
       "      <th>NDC</th>\n",
       "      <th>NPP</th>\n",
       "    </tr>\n",
       "  </thead>\n",
       "  <tbody>\n",
       "    <tr>\n",
       "      <th>0</th>\n",
       "      <td>anticipation</td>\n",
       "      <td>5905</td>\n",
       "      <td>228</td>\n",
       "    </tr>\n",
       "    <tr>\n",
       "      <th>1</th>\n",
       "      <td>trust</td>\n",
       "      <td>5274</td>\n",
       "      <td>1200</td>\n",
       "    </tr>\n",
       "    <tr>\n",
       "      <th>2</th>\n",
       "      <td>joy</td>\n",
       "      <td>7014</td>\n",
       "      <td>855</td>\n",
       "    </tr>\n",
       "    <tr>\n",
       "      <th>3</th>\n",
       "      <td>sadness</td>\n",
       "      <td>1028</td>\n",
       "      <td>1027</td>\n",
       "    </tr>\n",
       "    <tr>\n",
       "      <th>4</th>\n",
       "      <td>fear</td>\n",
       "      <td>2226</td>\n",
       "      <td>1253</td>\n",
       "    </tr>\n",
       "    <tr>\n",
       "      <th>5</th>\n",
       "      <td>surprise</td>\n",
       "      <td>1323</td>\n",
       "      <td>6295</td>\n",
       "    </tr>\n",
       "    <tr>\n",
       "      <th>6</th>\n",
       "      <td>disgust</td>\n",
       "      <td>2252</td>\n",
       "      <td>502</td>\n",
       "    </tr>\n",
       "    <tr>\n",
       "      <th>7</th>\n",
       "      <td>anger</td>\n",
       "      <td>1934</td>\n",
       "      <td>841</td>\n",
       "    </tr>\n",
       "  </tbody>\n",
       "</table>\n",
       "</div>"
      ],
      "text/plain": [
       "        emotion   NDC   NPP\n",
       "0  anticipation  5905  228 \n",
       "1  trust         5274  1200\n",
       "2  joy           7014  855 \n",
       "3  sadness       1028  1027\n",
       "4  fear          2226  1253\n",
       "5  surprise      1323  6295\n",
       "6  disgust       2252  502 \n",
       "7  anger         1934  841 "
      ]
     },
     "execution_count": 69,
     "metadata": {},
     "output_type": "execute_result"
    }
   ],
   "source": [
    "df_party_emotions = party_emotions.to_dataframe()\n",
    "df_party_emotions"
   ]
  },
  {
   "cell_type": "code",
   "execution_count": 70,
   "metadata": {
    "collapsed": false
   },
   "outputs": [
    {
     "data": {
      "image/png": "[encoded data removed]",
      "text/plain": [
       "<matplotlib.figure.Figure at 0x11b2241d0>"
      ]
     },
     "metadata": {},
     "output_type": "display_data"
    }
   ],
   "source": [
    "ax = df_party_emotions.plot.bar(x=df_party_emotions['emotion'], \n",
    "                           color=['#60BD68', '#5DA5DA'],\n",
    "                           sharex=True, rot=0,\n",
    "                           title='Emotion Displayed In Tweets By Political Party',\n",
    "                          )"
   ]
  },
  {
   "cell_type": "code",
   "execution_count": 71,
   "metadata": {
    "collapsed": true
   },
   "outputs": [],
   "source": [
    "ax.set_ylabel(\"Count\")\n",
    "ax.set_xlabel(\"Emotion\")\n",
    "fig = ax.get_figure()\n",
    "fig.tight_layout()\n",
    "fig.savefig('plots/tweets_emotions_party.png', dpi=200)"
   ]
  },
  {
   "cell_type": "markdown",
   "metadata": {},
   "source": [
    "### NPP emotions"
   ]
  },
  {
   "cell_type": "code",
   "execution_count": 95,
   "metadata": {
    "collapsed": false
   },
   "outputs": [],
   "source": [
    "npp_surprise = npp.sort('score', ascending=False).filter_by('fear', 'emotion').to_dataframe()"
   ]
  },
  {
   "cell_type": "code",
   "execution_count": 96,
   "metadata": {
    "collapsed": false
   },
   "outputs": [
    {
     "data": {
      "text/html": [
       "<div>\n",
       "<table border=\"1\" class=\"dataframe\">\n",
       "  <thead>\n",
       "    <tr style=\"text-align: right;\">\n",
       "      <th></th>\n",
       "      <th>emotion</th>\n",
       "      <th>text</th>\n",
       "      <th>permalink</th>\n",
       "    </tr>\n",
       "  </thead>\n",
       "  <tbody>\n",
       "    <tr>\n",
       "      <th>0</th>\n",
       "      <td>fear</td>\n",
       "      <td>Young people around the country who are actively looking for jobs want change Join them ChooseChange IAmVotingForChange</td>\n",
       "      <td>https://twitter.com/NAkufoAddo/status/802904703889801216</td>\n",
       "    </tr>\n",
       "    <tr>\n",
       "      <th>1</th>\n",
       "      <td>fear</td>\n",
       "      <td>Dec 7 is a choice between incompetence mismanagement corruption on one hand visionary leadership on the other hand VoteForChange</td>\n",
       "      <td>https://twitter.com/MBawumia/status/804760913450504192</td>\n",
       "    </tr>\n",
       "    <tr>\n",
       "      <th>2</th>\n",
       "      <td>fear</td>\n",
       "      <td>Let s join hands for change and make Ghana work again VoteForChange VoteNanaAddo</td>\n",
       "      <td>https://twitter.com/MBawumia/status/803284771069566976</td>\n",
       "    </tr>\n",
       "    <tr>\n",
       "      <th>3</th>\n",
       "      <td>fear</td>\n",
       "      <td>To the Ghanaian who wants an end to excessive government borrowing you have a chance to VoteForChange</td>\n",
       "      <td>https://twitter.com/MBawumia/status/805132378494631936</td>\n",
       "    </tr>\n",
       "    <tr>\n",
       "      <th>4</th>\n",
       "      <td>fear</td>\n",
       "      <td>Ghana is indeed at the crossroads And as former President Kufuor said it s time to VoteForChange and hand the country to a competent hand</td>\n",
       "      <td>https://twitter.com/MBawumia/status/805561667241332738</td>\n",
       "    </tr>\n",
       "    <tr>\n",
       "      <th>5</th>\n",
       "      <td>fear</td>\n",
       "      <td>Ghana s future depends on your vote VoteAkufoAddo VoteForChange for Ghana to work again for all of us</td>\n",
       "      <td>https://twitter.com/MBawumia/status/804756249661345792</td>\n",
       "    </tr>\n",
       "    <tr>\n",
       "      <th>6</th>\n",
       "      <td>fear</td>\n",
       "      <td>Join many Ghanaians that have chosen change ChooseChange I am ReadyForChange YourVoteYourVoice 10Days to change VoteNanaAddo</td>\n",
       "      <td>https://twitter.com/NAkufoAddo/status/802535199078633472</td>\n",
       "    </tr>\n",
       "    <tr>\n",
       "      <th>7</th>\n",
       "      <td>fear</td>\n",
       "      <td>Ghanaians want a government that will do a job for them and not a government that will rule with propaganda ChooseChange in 10days</td>\n",
       "      <td>https://twitter.com/NAkufoAddo/status/802536476613316609</td>\n",
       "    </tr>\n",
       "    <tr>\n",
       "      <th>8</th>\n",
       "      <td>fear</td>\n",
       "      <td>The 1 Million will be used to finance capital expenditure on upgrading improving infrastructure VoteForChange VoteAkufoAddo</td>\n",
       "      <td>https://twitter.com/MBawumia/status/804622525208625152</td>\n",
       "    </tr>\n",
       "    <tr>\n",
       "      <th>9</th>\n",
       "      <td>fear</td>\n",
       "      <td>kalyppo charges ur fon faster than electricity</td>\n",
       "      <td>https://twitter.com/iam_kalypso/status/784890734382030848</td>\n",
       "    </tr>\n",
       "    <tr>\n",
       "      <th>10</th>\n",
       "      <td>fear</td>\n",
       "      <td>Vote wisely ToAbaPa VoteNanaAddo VoteForChange</td>\n",
       "      <td>https://twitter.com/Jeff_Bankss/status/801491694550188035</td>\n",
       "    </tr>\n",
       "    <tr>\n",
       "      <th>11</th>\n",
       "      <td>fear</td>\n",
       "      <td>We have a clear vision of where we want to take Ghana so VoteAkufoAddo VoteForChange ToAbaPa RestoreGhana</td>\n",
       "      <td>https://twitter.com/FredAgyap01/status/806228583052152833</td>\n",
       "    </tr>\n",
       "    <tr>\n",
       "      <th>12</th>\n",
       "      <td>fear</td>\n",
       "      <td>Join the resounding chorus for change sweeping our country 10days to change ChooseChange ReadyForChange YourVoteYourVoice</td>\n",
       "      <td>https://twitter.com/NAkufoAddo/status/802535752869421060</td>\n",
       "    </tr>\n",
       "    <tr>\n",
       "      <th>13</th>\n",
       "      <td>fear</td>\n",
       "      <td>The levels of deprivation and under development throughout the country are avoidable and unacceptable VoteForChange VoteAkufoAddo</td>\n",
       "      <td>https://twitter.com/MBawumia/status/804624233510871040</td>\n",
       "    </tr>\n",
       "    <tr>\n",
       "      <th>14</th>\n",
       "      <td>fear</td>\n",
       "      <td>Growing Together will place particular emphasis on rural and deprived communities VoteForChange VoteAkufoAddo</td>\n",
       "      <td>https://twitter.com/MBawumia/status/804610223579209728</td>\n",
       "    </tr>\n",
       "    <tr>\n",
       "      <th>15</th>\n",
       "      <td>fear</td>\n",
       "      <td>ToAbaPa VoteNPP VoteNanaAddo VoteforChange</td>\n",
       "      <td>https://twitter.com/SBawumia/status/804632950268723200</td>\n",
       "    </tr>\n",
       "    <tr>\n",
       "      <th>16</th>\n",
       "      <td>fear</td>\n",
       "      <td>Congratulations zilevandamme you are such a star Well done for doing your job so well VoteForChange VoteDA for no corruption tatus 804734508578836483</td>\n",
       "      <td>https://twitter.com/lootgous/status/804755860073353216</td>\n",
       "    </tr>\n",
       "    <tr>\n",
       "      <th>17</th>\n",
       "      <td>fear</td>\n",
       "      <td>WonTsakeMli ToAbaPa VoteForChange VoteAkufoAddo</td>\n",
       "      <td>https://twitter.com/royaltcafe2012/status/806142766820495360</td>\n",
       "    </tr>\n",
       "    <tr>\n",
       "      <th>18</th>\n",
       "      <td>fear</td>\n",
       "      <td>Change VoteAkufoAddo ToAbaPa VoteForChange CNNGhanaWeek</td>\n",
       "      <td>https://twitter.com/AndyPoundyJnr/status/806220974085537793</td>\n",
       "    </tr>\n",
       "    <tr>\n",
       "      <th>19</th>\n",
       "      <td>fear</td>\n",
       "      <td>GhanaDeservesBetter so please get out and VoteForChange on Wednesday</td>\n",
       "      <td>https://twitter.com/Ah_PeeGh/status/805852393514692613</td>\n",
       "    </tr>\n",
       "    <tr>\n",
       "      <th>20</th>\n",
       "      <td>fear</td>\n",
       "      <td>Hello friends the date of destiny is approaching Wednesday presents an opportunity to make history and VoteForChange</td>\n",
       "      <td>https://twitter.com/Ah_PeeGh/status/805852709991698432</td>\n",
       "    </tr>\n",
       "    <tr>\n",
       "      <th>21</th>\n",
       "      <td>fear</td>\n",
       "      <td>Listening to NAkufoAddo on Peace1043fm Change is coming ToAbaPa VoteNPP NanaSpeaks</td>\n",
       "      <td>https://twitter.com/SBawumia/status/804634054972817408</td>\n",
       "    </tr>\n",
       "    <tr>\n",
       "      <th>22</th>\n",
       "      <td>fear</td>\n",
       "      <td>ijustvoted so please go and VoteAkufoAddo NAkufoAddo</td>\n",
       "      <td>https://twitter.com/Eddi_yung/status/806478867686899712</td>\n",
       "    </tr>\n",
       "    <tr>\n",
       "      <th>23</th>\n",
       "      <td>fear</td>\n",
       "      <td>ToAbaPa VoteForChange VoteAkufoAddo VoteTheElephant</td>\n",
       "      <td>https://twitter.com/NanaAnsah20/status/806189235829149696</td>\n",
       "    </tr>\n",
       "    <tr>\n",
       "      <th>24</th>\n",
       "      <td>fear</td>\n",
       "      <td>Nana The Family Man ToAbaPa VoteForChange VoteNanaAddo</td>\n",
       "      <td>https://twitter.com/GabbyDarko/status/804297776565731328</td>\n",
       "    </tr>\n",
       "    <tr>\n",
       "      <th>25</th>\n",
       "      <td>fear</td>\n",
       "      <td>Give Amissah Arthur Kalyppo to drink s 784553649984925696</td>\n",
       "      <td>https://twitter.com/Acid_kay/status/784904898018177024</td>\n",
       "    </tr>\n",
       "    <tr>\n",
       "      <th>26</th>\n",
       "      <td>fear</td>\n",
       "      <td>Watch AuntyBeckySpeaks ToAbaPa VoteForChange</td>\n",
       "      <td>https://twitter.com/NanaAnsah20/status/804960308947288064</td>\n",
       "    </tr>\n",
       "    <tr>\n",
       "      <th>27</th>\n",
       "      <td>fear</td>\n",
       "      <td>VoteForChange MokoAyaNiMokoAba</td>\n",
       "      <td>https://twitter.com/NanaAnsah20/status/801534428023521280</td>\n",
       "    </tr>\n",
       "    <tr>\n",
       "      <th>28</th>\n",
       "      <td>fear</td>\n",
       "      <td>We are winning be part Call your friends encourage them to go out and vote Let s finish this for Ghana s Change VoteAkufoAddo</td>\n",
       "      <td>https://twitter.com/iamOmanhene/status/806520487543263234</td>\n",
       "    </tr>\n",
       "    <tr>\n",
       "      <th>29</th>\n",
       "      <td>fear</td>\n",
       "      <td>VoteAkufoAddo VoteForChange NAkufoAddo is the best man for Ghana</td>\n",
       "      <td>https://twitter.com/theandymayne/status/805774711829499905</td>\n",
       "    </tr>\n",
       "    <tr>\n",
       "      <th>...</th>\n",
       "      <td>...</td>\n",
       "      <td>...</td>\n",
       "      <td>...</td>\n",
       "    </tr>\n",
       "    <tr>\n",
       "      <th>1223</th>\n",
       "      <td>fear</td>\n",
       "      <td>We are vigilant this tym round voteAkufoAddo</td>\n",
       "      <td>https://twitter.com/kingbrike_ired/status/806538442683383808</td>\n",
       "    </tr>\n",
       "    <tr>\n",
       "      <th>1224</th>\n",
       "      <td>fear</td>\n",
       "      <td>We are vigilant this tym round voteAkufoAddo</td>\n",
       "      <td>https://twitter.com/brike_steven/status/806538445128695809</td>\n",
       "    </tr>\n",
       "    <tr>\n",
       "      <th>1225</th>\n",
       "      <td>fear</td>\n",
       "      <td>We are vigilant this tym round voteAkufoAddo</td>\n",
       "      <td>https://twitter.com/BrikyBrains/status/806538448496709637</td>\n",
       "    </tr>\n",
       "    <tr>\n",
       "      <th>1226</th>\n",
       "      <td>fear</td>\n",
       "      <td>We are vigilant this tym round voteAkufoAddo</td>\n",
       "      <td>https://twitter.com/SteveAggreyired/status/806538453135585280</td>\n",
       "    </tr>\n",
       "    <tr>\n",
       "      <th>1227</th>\n",
       "      <td>fear</td>\n",
       "      <td>We are vigilant this tym round voteAkufoAddo</td>\n",
       "      <td>https://twitter.com/stephenceesi/status/806538459330514944</td>\n",
       "    </tr>\n",
       "    <tr>\n",
       "      <th>1228</th>\n",
       "      <td>fear</td>\n",
       "      <td>Let s vote for change wai voteAkufoAddo</td>\n",
       "      <td>https://twitter.com/brike_steven/status/806539094343974912</td>\n",
       "    </tr>\n",
       "    <tr>\n",
       "      <th>1229</th>\n",
       "      <td>fear</td>\n",
       "      <td>Lol my Ghana kwem aasa kalyppo</td>\n",
       "      <td>https://twitter.com/khemitoons/status/785151146923089920</td>\n",
       "    </tr>\n",
       "    <tr>\n",
       "      <th>1230</th>\n",
       "      <td>fear</td>\n",
       "      <td>In a Country where Kalyppo has become more Revelant than The Ghana Blackstars Aka Ghana BlackCash</td>\n",
       "      <td>https://twitter.com/nanaacquah3/status/785121731405029376</td>\n",
       "    </tr>\n",
       "    <tr>\n",
       "      <th>1231</th>\n",
       "      <td>fear</td>\n",
       "      <td>Top Trends Ghana Oct09 08 50 GMT NPPManifesto Twitta University Trump Kalyppo BlackMaidens http www geohashtrend com cc GH</td>\n",
       "      <td>https://twitter.com/GeoHashTrend/status/785042267148910593</td>\n",
       "    </tr>\n",
       "    <tr>\n",
       "      <th>1232</th>\n",
       "      <td>fear</td>\n",
       "      <td>Top Trends Ghana Oct09 04 35 GMT Kalyppo Trump Black Maidens TwittaUniversity PerkHushParty http www geohashtrend com cc GH</td>\n",
       "      <td>https://twitter.com/GeoHashTrend/status/784981590124355584</td>\n",
       "    </tr>\n",
       "    <tr>\n",
       "      <th>1233</th>\n",
       "      <td>fear</td>\n",
       "      <td>amsgh TT GHANA 04 47 1 Twitta University 2 Kalyppo 3 Trump 4 BlackMaidens 5 CokeStudioGH 6 PerkHushParty 7 Wildoutghdotcom 8 Take Not</td>\n",
       "      <td>https://twitter.com/allmediagh/status/784979021482393601</td>\n",
       "    </tr>\n",
       "    <tr>\n",
       "      <th>1234</th>\n",
       "      <td>fear</td>\n",
       "      <td>Top Trends Ghana Oct09 00 25 GMT Kalyppo Trump TheOne Black Maidens PerkHushParty http www geohashtrend com cc GH</td>\n",
       "      <td>https://twitter.com/GeoHashTrend/status/784920718303637504</td>\n",
       "    </tr>\n",
       "    <tr>\n",
       "      <th>1235</th>\n",
       "      <td>fear</td>\n",
       "      <td>Top Trends Ghana Oct08 22 45 GMT Kalyppo Trump TheOne Black Maidens PerkHushParty http www geohashtrend com cc GH</td>\n",
       "      <td>https://twitter.com/GeoHashTrend/status/784890489912688640</td>\n",
       "    </tr>\n",
       "    <tr>\n",
       "      <th>1236</th>\n",
       "      <td>fear</td>\n",
       "      <td>My eye red paaa voteAkufoAddo</td>\n",
       "      <td>https://twitter.com/brike_steven/status/806542687339954177</td>\n",
       "    </tr>\n",
       "    <tr>\n",
       "      <th>1237</th>\n",
       "      <td>fear</td>\n",
       "      <td>Central region is bringing change voteAkufoAddo</td>\n",
       "      <td>https://twitter.com/kingbrike_ired/status/806542992718839808</td>\n",
       "    </tr>\n",
       "    <tr>\n",
       "      <th>1238</th>\n",
       "      <td>fear</td>\n",
       "      <td>Central region is bringing change voteAkufoAddo</td>\n",
       "      <td>https://twitter.com/brike_steven/status/806542994975420416</td>\n",
       "    </tr>\n",
       "    <tr>\n",
       "      <th>1239</th>\n",
       "      <td>fear</td>\n",
       "      <td>Central region is bringing change voteAkufoAddo</td>\n",
       "      <td>https://twitter.com/BrikyBrains/status/806542997689081856</td>\n",
       "    </tr>\n",
       "    <tr>\n",
       "      <th>1240</th>\n",
       "      <td>fear</td>\n",
       "      <td>Central region is bringing change voteAkufoAddo</td>\n",
       "      <td>https://twitter.com/SteveAggreyired/status/806542999958257665</td>\n",
       "    </tr>\n",
       "    <tr>\n",
       "      <th>1241</th>\n",
       "      <td>fear</td>\n",
       "      <td>Central region is bringing change voteAkufoAddo</td>\n",
       "      <td>https://twitter.com/CeesiBrike_ired/status/806543002210541569</td>\n",
       "    </tr>\n",
       "    <tr>\n",
       "      <th>1242</th>\n",
       "      <td>fear</td>\n",
       "      <td>Central region is bringing change voteAkufoAddo</td>\n",
       "      <td>https://twitter.com/stephenceesi/status/806543004550987776</td>\n",
       "    </tr>\n",
       "    <tr>\n",
       "      <th>1243</th>\n",
       "      <td>fear</td>\n",
       "      <td>Central region is bringing change voteAkufoAddo</td>\n",
       "      <td>https://twitter.com/sirB_ired/status/806543008342675456</td>\n",
       "    </tr>\n",
       "    <tr>\n",
       "      <th>1244</th>\n",
       "      <td>fear</td>\n",
       "      <td>Central region is bringing change voteAkufoAddo</td>\n",
       "      <td>https://twitter.com/PkBrikeIred/status/806543011337342976</td>\n",
       "    </tr>\n",
       "    <tr>\n",
       "      <th>1245</th>\n",
       "      <td>fear</td>\n",
       "      <td>this KALYPPO sakof Nana Addo pic wey he dey suck de tin dah make everybro dey post abt KALYPPO or Is the Change people are lookn for</td>\n",
       "      <td>https://twitter.com/Kwameosei53/status/784868508471586816</td>\n",
       "    </tr>\n",
       "    <tr>\n",
       "      <th>1246</th>\n",
       "      <td>fear</td>\n",
       "      <td>amsgh Kalyppo is now trending in Ghana ranking 2</td>\n",
       "      <td>https://twitter.com/allmediagh/status/784858335979896832</td>\n",
       "    </tr>\n",
       "    <tr>\n",
       "      <th>1247</th>\n",
       "      <td>fear</td>\n",
       "      <td>Ghanaians want their voice to be heard its 5 n the queue is still long theWindofChangeIsBlowing nanab3ba VoteAkufoAddo</td>\n",
       "      <td>https://twitter.com/ColdeNathanael/status/806544090825453568</td>\n",
       "    </tr>\n",
       "    <tr>\n",
       "      <th>1248</th>\n",
       "      <td>fear</td>\n",
       "      <td>How I wish Ghanaians wud punish our corrupt politicians governments they way we ve punished TheBlackStars the past few years Kalyppo</td>\n",
       "      <td>https://twitter.com/ike_kito/status/784520327997054976</td>\n",
       "    </tr>\n",
       "    <tr>\n",
       "      <th>1249</th>\n",
       "      <td>fear</td>\n",
       "      <td>The shallow minded party people will never understand dis Kalyppo for Amissah Arthur</td>\n",
       "      <td>https://twitter.com/Kwame_SP/status/784513355704827904</td>\n",
       "    </tr>\n",
       "    <tr>\n",
       "      <th>1250</th>\n",
       "      <td>fear</td>\n",
       "      <td>VoteAkufoAddo NAkufoAddo so proud of myself today convinced 3 reluctant friends to vote for change today my lil contribution 2 d course</td>\n",
       "      <td>https://twitter.com/goodheisenberg/status/806545535368884224</td>\n",
       "    </tr>\n",
       "    <tr>\n",
       "      <th>1251</th>\n",
       "      <td>fear</td>\n",
       "      <td>If Kalyppo still dey where is Milko Can t think far</td>\n",
       "      <td>https://twitter.com/gig_ba_ko_pe/status/784357094602530816</td>\n",
       "    </tr>\n",
       "    <tr>\n",
       "      <th>1252</th>\n",
       "      <td>fear</td>\n",
       "      <td>RYSENSHYNE with Kalyppo is Bae</td>\n",
       "      <td>https://twitter.com/PhilipDuncan15/status/784293603770179584</td>\n",
       "    </tr>\n",
       "  </tbody>\n",
       "</table>\n",
       "<p>1253 rows × 3 columns</p>\n",
       "</div>"
      ],
      "text/plain": [
       "     emotion  \\\n",
       "0     fear     \n",
       "1     fear     \n",
       "2     fear     \n",
       "3     fear     \n",
       "4     fear     \n",
       "5     fear     \n",
       "6     fear     \n",
       "7     fear     \n",
       "8     fear     \n",
       "9     fear     \n",
       "10    fear     \n",
       "11    fear     \n",
       "12    fear     \n",
       "13    fear     \n",
       "14    fear     \n",
       "15    fear     \n",
       "16    fear     \n",
       "17    fear     \n",
       "18    fear     \n",
       "19    fear     \n",
       "20    fear     \n",
       "21    fear     \n",
       "22    fear     \n",
       "23    fear     \n",
       "24    fear     \n",
       "25    fear     \n",
       "26    fear     \n",
       "27    fear     \n",
       "28    fear     \n",
       "29    fear     \n",
       "...    ...     \n",
       "1223  fear     \n",
       "1224  fear     \n",
       "1225  fear     \n",
       "1226  fear     \n",
       "1227  fear     \n",
       "1228  fear     \n",
       "1229  fear     \n",
       "1230  fear     \n",
       "1231  fear     \n",
       "1232  fear     \n",
       "1233  fear     \n",
       "1234  fear     \n",
       "1235  fear     \n",
       "1236  fear     \n",
       "1237  fear     \n",
       "1238  fear     \n",
       "1239  fear     \n",
       "1240  fear     \n",
       "1241  fear     \n",
       "1242  fear     \n",
       "1243  fear     \n",
       "1244  fear     \n",
       "1245  fear     \n",
       "1246  fear     \n",
       "1247  fear     \n",
       "1248  fear     \n",
       "1249  fear     \n",
       "1250  fear     \n",
       "1251  fear     \n",
       "1252  fear     \n",
       "\n",
       "                                                                                                                                                       text  \\\n",
       "0     Young people around the country who are actively looking for jobs want change Join them ChooseChange IAmVotingForChange                                 \n",
       "1     Dec 7 is a choice between incompetence mismanagement corruption on one hand visionary leadership on the other hand VoteForChange                        \n",
       "2     Let s join hands for change and make Ghana work again VoteForChange VoteNanaAddo                                                                        \n",
       "3     To the Ghanaian who wants an end to excessive government borrowing you have a chance to VoteForChange                                                   \n",
       "4     Ghana is indeed at the crossroads And as former President Kufuor said it s time to VoteForChange and hand the country to a competent hand               \n",
       "5     Ghana s future depends on your vote VoteAkufoAddo VoteForChange for Ghana to work again for all of us                                                   \n",
       "6     Join many Ghanaians that have chosen change ChooseChange I am ReadyForChange YourVoteYourVoice 10Days to change VoteNanaAddo                            \n",
       "7     Ghanaians want a government that will do a job for them and not a government that will rule with propaganda ChooseChange in 10days                      \n",
       "8     The 1 Million will be used to finance capital expenditure on upgrading improving infrastructure VoteForChange VoteAkufoAddo                             \n",
       "9     kalyppo charges ur fon faster than electricity                                                                                                          \n",
       "10    Vote wisely ToAbaPa VoteNanaAddo VoteForChange                                                                                                          \n",
       "11    We have a clear vision of where we want to take Ghana so VoteAkufoAddo VoteForChange ToAbaPa RestoreGhana                                               \n",
       "12    Join the resounding chorus for change sweeping our country 10days to change ChooseChange ReadyForChange YourVoteYourVoice                               \n",
       "13    The levels of deprivation and under development throughout the country are avoidable and unacceptable VoteForChange VoteAkufoAddo                       \n",
       "14    Growing Together will place particular emphasis on rural and deprived communities VoteForChange VoteAkufoAddo                                           \n",
       "15    ToAbaPa VoteNPP VoteNanaAddo VoteforChange                                                                                                              \n",
       "16    Congratulations zilevandamme you are such a star Well done for doing your job so well VoteForChange VoteDA for no corruption tatus 804734508578836483   \n",
       "17    WonTsakeMli ToAbaPa VoteForChange VoteAkufoAddo                                                                                                         \n",
       "18    Change VoteAkufoAddo ToAbaPa VoteForChange CNNGhanaWeek                                                                                                 \n",
       "19    GhanaDeservesBetter so please get out and VoteForChange on Wednesday                                                                                    \n",
       "20    Hello friends the date of destiny is approaching Wednesday presents an opportunity to make history and VoteForChange                                    \n",
       "21    Listening to NAkufoAddo on Peace1043fm Change is coming ToAbaPa VoteNPP NanaSpeaks                                                                      \n",
       "22    ijustvoted so please go and VoteAkufoAddo NAkufoAddo                                                                                                    \n",
       "23    ToAbaPa VoteForChange VoteAkufoAddo VoteTheElephant                                                                                                     \n",
       "24    Nana The Family Man ToAbaPa VoteForChange VoteNanaAddo                                                                                                  \n",
       "25    Give Amissah Arthur Kalyppo to drink s 784553649984925696                                                                                               \n",
       "26    Watch AuntyBeckySpeaks ToAbaPa VoteForChange                                                                                                            \n",
       "27    VoteForChange MokoAyaNiMokoAba                                                                                                                          \n",
       "28    We are winning be part Call your friends encourage them to go out and vote Let s finish this for Ghana s Change VoteAkufoAddo                           \n",
       "29    VoteAkufoAddo VoteForChange NAkufoAddo is the best man for Ghana                                                                                        \n",
       "...                                                                ...                                                                                        \n",
       "1223  We are vigilant this tym round voteAkufoAddo                                                                                                            \n",
       "1224  We are vigilant this tym round voteAkufoAddo                                                                                                            \n",
       "1225  We are vigilant this tym round voteAkufoAddo                                                                                                            \n",
       "1226  We are vigilant this tym round voteAkufoAddo                                                                                                            \n",
       "1227  We are vigilant this tym round voteAkufoAddo                                                                                                            \n",
       "1228  Let s vote for change wai voteAkufoAddo                                                                                                                 \n",
       "1229  Lol my Ghana kwem aasa kalyppo                                                                                                                          \n",
       "1230  In a Country where Kalyppo has become more Revelant than The Ghana Blackstars Aka Ghana BlackCash                                                       \n",
       "1231  Top Trends Ghana Oct09 08 50 GMT NPPManifesto Twitta University Trump Kalyppo BlackMaidens http www geohashtrend com cc GH                              \n",
       "1232  Top Trends Ghana Oct09 04 35 GMT Kalyppo Trump Black Maidens TwittaUniversity PerkHushParty http www geohashtrend com cc GH                             \n",
       "1233  amsgh TT GHANA 04 47 1 Twitta University 2 Kalyppo 3 Trump 4 BlackMaidens 5 CokeStudioGH 6 PerkHushParty 7 Wildoutghdotcom 8 Take Not                   \n",
       "1234  Top Trends Ghana Oct09 00 25 GMT Kalyppo Trump TheOne Black Maidens PerkHushParty http www geohashtrend com cc GH                                       \n",
       "1235  Top Trends Ghana Oct08 22 45 GMT Kalyppo Trump TheOne Black Maidens PerkHushParty http www geohashtrend com cc GH                                       \n",
       "1236  My eye red paaa voteAkufoAddo                                                                                                                           \n",
       "1237  Central region is bringing change voteAkufoAddo                                                                                                         \n",
       "1238  Central region is bringing change voteAkufoAddo                                                                                                         \n",
       "1239  Central region is bringing change voteAkufoAddo                                                                                                         \n",
       "1240  Central region is bringing change voteAkufoAddo                                                                                                         \n",
       "1241  Central region is bringing change voteAkufoAddo                                                                                                         \n",
       "1242  Central region is bringing change voteAkufoAddo                                                                                                         \n",
       "1243  Central region is bringing change voteAkufoAddo                                                                                                         \n",
       "1244  Central region is bringing change voteAkufoAddo                                                                                                         \n",
       "1245  this KALYPPO sakof Nana Addo pic wey he dey suck de tin dah make everybro dey post abt KALYPPO or Is the Change people are lookn for                    \n",
       "1246  amsgh Kalyppo is now trending in Ghana ranking 2                                                                                                        \n",
       "1247  Ghanaians want their voice to be heard its 5 n the queue is still long theWindofChangeIsBlowing nanab3ba VoteAkufoAddo                                  \n",
       "1248  How I wish Ghanaians wud punish our corrupt politicians governments they way we ve punished TheBlackStars the past few years Kalyppo                    \n",
       "1249  The shallow minded party people will never understand dis Kalyppo for Amissah Arthur                                                                    \n",
       "1250  VoteAkufoAddo NAkufoAddo so proud of myself today convinced 3 reluctant friends to vote for change today my lil contribution 2 d course                 \n",
       "1251  If Kalyppo still dey where is Milko Can t think far                                                                                                     \n",
       "1252  RYSENSHYNE with Kalyppo is Bae                                                                                                                          \n",
       "\n",
       "                                                          permalink  \n",
       "0     https://twitter.com/NAkufoAddo/status/802904703889801216       \n",
       "1     https://twitter.com/MBawumia/status/804760913450504192         \n",
       "2     https://twitter.com/MBawumia/status/803284771069566976         \n",
       "3     https://twitter.com/MBawumia/status/805132378494631936         \n",
       "4     https://twitter.com/MBawumia/status/805561667241332738         \n",
       "5     https://twitter.com/MBawumia/status/804756249661345792         \n",
       "6     https://twitter.com/NAkufoAddo/status/802535199078633472       \n",
       "7     https://twitter.com/NAkufoAddo/status/802536476613316609       \n",
       "8     https://twitter.com/MBawumia/status/804622525208625152         \n",
       "9     https://twitter.com/iam_kalypso/status/784890734382030848      \n",
       "10    https://twitter.com/Jeff_Bankss/status/801491694550188035      \n",
       "11    https://twitter.com/FredAgyap01/status/806228583052152833      \n",
       "12    https://twitter.com/NAkufoAddo/status/802535752869421060       \n",
       "13    https://twitter.com/MBawumia/status/804624233510871040         \n",
       "14    https://twitter.com/MBawumia/status/804610223579209728         \n",
       "15    https://twitter.com/SBawumia/status/804632950268723200         \n",
       "16    https://twitter.com/lootgous/status/804755860073353216         \n",
       "17    https://twitter.com/royaltcafe2012/status/806142766820495360   \n",
       "18    https://twitter.com/AndyPoundyJnr/status/806220974085537793    \n",
       "19    https://twitter.com/Ah_PeeGh/status/805852393514692613         \n",
       "20    https://twitter.com/Ah_PeeGh/status/805852709991698432         \n",
       "21    https://twitter.com/SBawumia/status/804634054972817408         \n",
       "22    https://twitter.com/Eddi_yung/status/806478867686899712        \n",
       "23    https://twitter.com/NanaAnsah20/status/806189235829149696      \n",
       "24    https://twitter.com/GabbyDarko/status/804297776565731328       \n",
       "25    https://twitter.com/Acid_kay/status/784904898018177024         \n",
       "26    https://twitter.com/NanaAnsah20/status/804960308947288064      \n",
       "27    https://twitter.com/NanaAnsah20/status/801534428023521280      \n",
       "28    https://twitter.com/iamOmanhene/status/806520487543263234      \n",
       "29    https://twitter.com/theandymayne/status/805774711829499905     \n",
       "...                                                          ...     \n",
       "1223  https://twitter.com/kingbrike_ired/status/806538442683383808   \n",
       "1224  https://twitter.com/brike_steven/status/806538445128695809     \n",
       "1225  https://twitter.com/BrikyBrains/status/806538448496709637      \n",
       "1226  https://twitter.com/SteveAggreyired/status/806538453135585280  \n",
       "1227  https://twitter.com/stephenceesi/status/806538459330514944     \n",
       "1228  https://twitter.com/brike_steven/status/806539094343974912     \n",
       "1229  https://twitter.com/khemitoons/status/785151146923089920       \n",
       "1230  https://twitter.com/nanaacquah3/status/785121731405029376      \n",
       "1231  https://twitter.com/GeoHashTrend/status/785042267148910593     \n",
       "1232  https://twitter.com/GeoHashTrend/status/784981590124355584     \n",
       "1233  https://twitter.com/allmediagh/status/784979021482393601       \n",
       "1234  https://twitter.com/GeoHashTrend/status/784920718303637504     \n",
       "1235  https://twitter.com/GeoHashTrend/status/784890489912688640     \n",
       "1236  https://twitter.com/brike_steven/status/806542687339954177     \n",
       "1237  https://twitter.com/kingbrike_ired/status/806542992718839808   \n",
       "1238  https://twitter.com/brike_steven/status/806542994975420416     \n",
       "1239  https://twitter.com/BrikyBrains/status/806542997689081856      \n",
       "1240  https://twitter.com/SteveAggreyired/status/806542999958257665  \n",
       "1241  https://twitter.com/CeesiBrike_ired/status/806543002210541569  \n",
       "1242  https://twitter.com/stephenceesi/status/806543004550987776     \n",
       "1243  https://twitter.com/sirB_ired/status/806543008342675456        \n",
       "1244  https://twitter.com/PkBrikeIred/status/806543011337342976      \n",
       "1245  https://twitter.com/Kwameosei53/status/784868508471586816      \n",
       "1246  https://twitter.com/allmediagh/status/784858335979896832       \n",
       "1247  https://twitter.com/ColdeNathanael/status/806544090825453568   \n",
       "1248  https://twitter.com/ike_kito/status/784520327997054976         \n",
       "1249  https://twitter.com/Kwame_SP/status/784513355704827904         \n",
       "1250  https://twitter.com/goodheisenberg/status/806545535368884224   \n",
       "1251  https://twitter.com/gig_ba_ko_pe/status/784357094602530816     \n",
       "1252  https://twitter.com/PhilipDuncan15/status/784293603770179584   \n",
       "\n",
       "[1253 rows x 3 columns]"
      ]
     },
     "execution_count": 96,
     "metadata": {},
     "output_type": "execute_result"
    }
   ],
   "source": [
    "npp_surprise[['emotion', 'text', 'permalink']]"
   ]
  },
  {
   "cell_type": "markdown",
   "metadata": {
    "collapsed": true
   },
   "source": [
    "### NDC emotions"
   ]
  },
  {
   "cell_type": "code",
   "execution_count": 90,
   "metadata": {
    "collapsed": false
   },
   "outputs": [
    {
     "data": {
      "text/html": [
       "<div>\n",
       "<table border=\"1\" class=\"dataframe\">\n",
       "  <thead>\n",
       "    <tr style=\"text-align: right;\">\n",
       "      <th></th>\n",
       "      <th>score</th>\n",
       "      <th>text</th>\n",
       "      <th>permalink</th>\n",
       "    </tr>\n",
       "  </thead>\n",
       "  <tbody>\n",
       "    <tr>\n",
       "      <th>0</th>\n",
       "      <td>227</td>\n",
       "      <td>We have decided JMToaso WeHaveDecided</td>\n",
       "      <td>https://twitter.com/GhanaAtWorkGH/status/803227090124316674</td>\n",
       "    </tr>\n",
       "    <tr>\n",
       "      <th>1</th>\n",
       "      <td>153</td>\n",
       "      <td>Happy 58th birthday to His Excellency JDMahama Whether you like it or not you are continuing God bless JMTOASO</td>\n",
       "      <td>https://twitter.com/JB5acesports/status/803526471587336192</td>\n",
       "    </tr>\n",
       "    <tr>\n",
       "      <th>2</th>\n",
       "      <td>152</td>\n",
       "      <td>Father in the name of Jesus Christ by the Power of your holy spirit bless the good thoughts JDMahama give him another victory JMToaso</td>\n",
       "      <td>https://twitter.com/AbeikuSantana/status/803505724915646464</td>\n",
       "    </tr>\n",
       "    <tr>\n",
       "      <th>3</th>\n",
       "      <td>136</td>\n",
       "      <td>We should have our lives back after the elections Vote for peace vote for progress JMToaso</td>\n",
       "      <td>https://twitter.com/Kwamebonfit/status/800641924776468480</td>\n",
       "    </tr>\n",
       "    <tr>\n",
       "      <th>4</th>\n",
       "      <td>125</td>\n",
       "      <td>We have retrieved GHc 40million under the National Service scandal and there are still criminal prosecutions ongoing Mahama JMToaso</td>\n",
       "      <td>https://twitter.com/APIIGY/status/800998182327111680</td>\n",
       "    </tr>\n",
       "    <tr>\n",
       "      <th>5</th>\n",
       "      <td>121</td>\n",
       "      <td>Emphasis on quality teacher delivery with Science and Mathematics must start from equipping our teacher with the skills JMToaso</td>\n",
       "      <td>https://twitter.com/Kwamebonfit/status/800665904325554176</td>\n",
       "    </tr>\n",
       "    <tr>\n",
       "      <th>6</th>\n",
       "      <td>120</td>\n",
       "      <td>Happy birthday Champion wishing you success health and happiness on your birthday You are the best boss in the whole world JMTOASO</td>\n",
       "      <td>https://twitter.com/Samichel4real/status/803539904860921856</td>\n",
       "    </tr>\n",
       "    <tr>\n",
       "      <th>7</th>\n",
       "      <td>120</td>\n",
       "      <td>Happy birthday Champion wishing you success health and happiness on your birthday You are the best boss in the whole world JMTOASO</td>\n",
       "      <td>https://twitter.com/Kwamebonfit/status/803542078131240960</td>\n",
       "    </tr>\n",
       "    <tr>\n",
       "      <th>8</th>\n",
       "      <td>119</td>\n",
       "      <td>Happy Happy birthday to you Mr President JDMahama You are blessed JMToaso</td>\n",
       "      <td>https://twitter.com/rabisparkle/status/803529173407006720</td>\n",
       "    </tr>\n",
       "    <tr>\n",
       "      <th>9</th>\n",
       "      <td>117</td>\n",
       "      <td>To our opponents kalypo isn t vote JMToaso</td>\n",
       "      <td>https://twitter.com/Cytizin_quayson/status/800643228349370368</td>\n",
       "    </tr>\n",
       "    <tr>\n",
       "      <th>10</th>\n",
       "      <td>114</td>\n",
       "      <td>Happy birthday JDMahama The celebration of this bday is the beginning of d grand celebration on December 7 JMTOASO LiveLongJMToaso</td>\n",
       "      <td>https://twitter.com/destinyjnr/status/803536095526977536</td>\n",
       "    </tr>\n",
       "    <tr>\n",
       "      <th>11</th>\n",
       "      <td>113</td>\n",
       "      <td>Hard Work indeed does pay and we can all see it JMToaso</td>\n",
       "      <td>https://twitter.com/Kwamebonfit/status/803190350181449728</td>\n",
       "    </tr>\n",
       "    <tr>\n",
       "      <th>12</th>\n",
       "      <td>110</td>\n",
       "      <td>We have retrieved GHc 40million under the National Service scandal and there are still criminal prosecutions ongoing Mahama JMToaso</td>\n",
       "      <td>https://twitter.com/APIIGY/status/800993424077979648</td>\n",
       "    </tr>\n",
       "    <tr>\n",
       "      <th>13</th>\n",
       "      <td>108</td>\n",
       "      <td>Ghana has already recorded low rates of infant and maternal mortality as recognised by the UN JMToaso</td>\n",
       "      <td>https://twitter.com/destinyjnr/status/803914645052465152</td>\n",
       "    </tr>\n",
       "    <tr>\n",
       "      <th>14</th>\n",
       "      <td>107</td>\n",
       "      <td>The power is in our hands Let s vote for JMToaso</td>\n",
       "      <td>https://twitter.com/Kwamebonfit/status/803962065442508801</td>\n",
       "    </tr>\n",
       "    <tr>\n",
       "      <th>15</th>\n",
       "      <td>107</td>\n",
       "      <td>lovely Ghanaians hope you can see for yourself JMToaso</td>\n",
       "      <td>https://twitter.com/Kwamebonfit/status/801372827567984640</td>\n",
       "    </tr>\n",
       "    <tr>\n",
       "      <th>16</th>\n",
       "      <td>106</td>\n",
       "      <td>Peace cannot be kept by force it can only be achieved by understanding JMToaso</td>\n",
       "      <td>https://twitter.com/APIIGY/status/803870555279499264</td>\n",
       "    </tr>\n",
       "    <tr>\n",
       "      <th>17</th>\n",
       "      <td>106</td>\n",
       "      <td>Quality Affordable Education JMToaso</td>\n",
       "      <td>https://twitter.com/Kwamebonfit/status/801702423756767232</td>\n",
       "    </tr>\n",
       "    <tr>\n",
       "      <th>18</th>\n",
       "      <td>106</td>\n",
       "      <td>Good work JMToaso</td>\n",
       "      <td>https://twitter.com/Kwamebonfit/status/801371830204465152</td>\n",
       "    </tr>\n",
       "    <tr>\n",
       "      <th>19</th>\n",
       "      <td>105</td>\n",
       "      <td>Quality Affordable Education JMToaso</td>\n",
       "      <td>https://twitter.com/APIIGY/status/801691575311077376</td>\n",
       "    </tr>\n",
       "    <tr>\n",
       "      <th>20</th>\n",
       "      <td>105</td>\n",
       "      <td>JMToaso May the Good Lord continue to shower his blessings on you on this special occasion of ur 58th Birthday JDMahama Happy Bday Sir</td>\n",
       "      <td>https://twitter.com/Kwamebonfit/status/803524011263225856</td>\n",
       "    </tr>\n",
       "    <tr>\n",
       "      <th>21</th>\n",
       "      <td>105</td>\n",
       "      <td>Happy birthday JDMahama The celebration of this bday is the beginning of d grand celebration on December 7 JMTOASO LiveLongJMToaso</td>\n",
       "      <td>https://twitter.com/APIIGY/status/803536095766056960</td>\n",
       "    </tr>\n",
       "    <tr>\n",
       "      <th>22</th>\n",
       "      <td>104</td>\n",
       "      <td>Next week by this time we all dey prepare to go vote for JMToaso</td>\n",
       "      <td>https://twitter.com/bernard_small/status/803565452224004096</td>\n",
       "    </tr>\n",
       "    <tr>\n",
       "      <th>23</th>\n",
       "      <td>104</td>\n",
       "      <td>JMToaso Let s make Ghana Proud on Dec 7TH</td>\n",
       "      <td>https://twitter.com/Kwamebonfit/status/803909568682192896</td>\n",
       "    </tr>\n",
       "    <tr>\n",
       "      <th>24</th>\n",
       "      <td>104</td>\n",
       "      <td>Make a good decision on Dec 7th JMToaso</td>\n",
       "      <td>https://twitter.com/APIIGY/status/801692577166659584</td>\n",
       "    </tr>\n",
       "    <tr>\n",
       "      <th>25</th>\n",
       "      <td>104</td>\n",
       "      <td>Don t sit on the fence take a front seat Go out and vote peacefully JMToaso</td>\n",
       "      <td>https://twitter.com/Kwamebonfit/status/800980372322447360</td>\n",
       "    </tr>\n",
       "    <tr>\n",
       "      <th>26</th>\n",
       "      <td>104</td>\n",
       "      <td>Forward looking visionary JMToaso</td>\n",
       "      <td>https://twitter.com/campus_entatain/status/800973032969924608</td>\n",
       "    </tr>\n",
       "    <tr>\n",
       "      <th>27</th>\n",
       "      <td>104</td>\n",
       "      <td>Make a good decision to go out and vote for our collective good JMToaso</td>\n",
       "      <td>https://twitter.com/Kwamebonfit/status/800978792395276293</td>\n",
       "    </tr>\n",
       "    <tr>\n",
       "      <th>28</th>\n",
       "      <td>104</td>\n",
       "      <td>There will be an extension of the motorway pretty soon JMToaso</td>\n",
       "      <td>https://twitter.com/Kwamebonfit/status/801665103972208640</td>\n",
       "    </tr>\n",
       "    <tr>\n",
       "      <th>29</th>\n",
       "      <td>104</td>\n",
       "      <td>He who has Started A Good work shall surely bring it to An expected end onaapo</td>\n",
       "      <td>https://twitter.com/Kwamebonfit/status/801658088147324928</td>\n",
       "    </tr>\n",
       "    <tr>\n",
       "      <th>...</th>\n",
       "      <td>...</td>\n",
       "      <td>...</td>\n",
       "      <td>...</td>\n",
       "    </tr>\n",
       "    <tr>\n",
       "      <th>5875</th>\n",
       "      <td>0</td>\n",
       "      <td>Retweeted Kersteng_Andy AndyKersteng VoteforJMnumber3 VoteforJMnumber3</td>\n",
       "      <td>https://twitter.com/OkotoMenka/status/806226858501087232</td>\n",
       "    </tr>\n",
       "    <tr>\n",
       "      <th>5876</th>\n",
       "      <td>0</td>\n",
       "      <td>Retweeted Braa Kelvin braa_kelvin all VoteforJMnumber3 VoteforJMnumber3 VoteforJMnumber3</td>\n",
       "      <td>https://twitter.com/OkotoMenka/status/806226911961743360</td>\n",
       "    </tr>\n",
       "    <tr>\n",
       "      <th>5877</th>\n",
       "      <td>0</td>\n",
       "      <td>Retweeted Groove On GrooveOn2015 all VoteforJMnumber3 VoteforJMnumber3 VoteforJMnumber3</td>\n",
       "      <td>https://twitter.com/OkotoMenka/status/806226923324117002</td>\n",
       "    </tr>\n",
       "    <tr>\n",
       "      <th>5878</th>\n",
       "      <td>0</td>\n",
       "      <td>Retweeted Maame Akua Papabi MaameAkuaPapab1 all VoteforJMnumber3 VoteforJMnumber3 VoteforJMnumber3</td>\n",
       "      <td>https://twitter.com/OkotoMenka/status/806226937135988736</td>\n",
       "    </tr>\n",
       "    <tr>\n",
       "      <th>5879</th>\n",
       "      <td>0</td>\n",
       "      <td>Retweeted EwuraAbyna kesseh vera_obaapay VoteforJMnumber3 VoteforJMnumber3 VoteforJMnumber3 VoteforJMnumber3</td>\n",
       "      <td>https://twitter.com/OkotoMenka/status/806227006295855104</td>\n",
       "    </tr>\n",
       "    <tr>\n",
       "      <th>5880</th>\n",
       "      <td>0</td>\n",
       "      <td>Retweeted Roger_Miller Roger_Mihla VoteforJMnumber3 VoteforJMnumber3</td>\n",
       "      <td>https://twitter.com/OkotoMenka/status/806227019251990529</td>\n",
       "    </tr>\n",
       "    <tr>\n",
       "      <th>5881</th>\n",
       "      <td>0</td>\n",
       "      <td>Retweeted Kersteng_Andy AndyKersteng VoteforJMnumber3 VoteforJMnumber3 VoteforJMnumber3</td>\n",
       "      <td>https://twitter.com/OkotoMenka/status/806227150542094336</td>\n",
       "    </tr>\n",
       "    <tr>\n",
       "      <th>5882</th>\n",
       "      <td>0</td>\n",
       "      <td>Retweeted Jullian kweku_gadafi We will trend everyday till elections and guess what we ll win too toaso gang VoteforJMnumber3</td>\n",
       "      <td>https://twitter.com/OkotoMenka/status/806227176974598144</td>\n",
       "    </tr>\n",
       "    <tr>\n",
       "      <th>5883</th>\n",
       "      <td>0</td>\n",
       "      <td>VoteforJMnumber3</td>\n",
       "      <td>https://twitter.com/ThatBoyKobby/status/806227380624904193</td>\n",
       "    </tr>\n",
       "    <tr>\n",
       "      <th>5884</th>\n",
       "      <td>0</td>\n",
       "      <td>VoteforJMnumber3</td>\n",
       "      <td>https://twitter.com/fiifibrew11/status/806227382227128320</td>\n",
       "    </tr>\n",
       "    <tr>\n",
       "      <th>5885</th>\n",
       "      <td>0</td>\n",
       "      <td>VoteforJMnumber3</td>\n",
       "      <td>https://twitter.com/GuyInRed_/status/806227576318554112</td>\n",
       "    </tr>\n",
       "    <tr>\n",
       "      <th>5886</th>\n",
       "      <td>0</td>\n",
       "      <td>VoteforJMnumber3</td>\n",
       "      <td>https://twitter.com/ThatBoyKobby/status/806227576435970050</td>\n",
       "    </tr>\n",
       "    <tr>\n",
       "      <th>5887</th>\n",
       "      <td>0</td>\n",
       "      <td>VoteforJMnumber3</td>\n",
       "      <td>https://twitter.com/GuyInRed_/status/806228824828637184</td>\n",
       "    </tr>\n",
       "    <tr>\n",
       "      <th>5888</th>\n",
       "      <td>0</td>\n",
       "      <td>VoteforJMnumber3</td>\n",
       "      <td>https://twitter.com/EdemReigns/status/806228824874766337</td>\n",
       "    </tr>\n",
       "    <tr>\n",
       "      <th>5889</th>\n",
       "      <td>0</td>\n",
       "      <td>VoteforJMnumber3</td>\n",
       "      <td>https://twitter.com/kimlykesseh/status/806228825147379712</td>\n",
       "    </tr>\n",
       "    <tr>\n",
       "      <th>5890</th>\n",
       "      <td>0</td>\n",
       "      <td>VoteforJMnumber3</td>\n",
       "      <td>https://twitter.com/fiifibrew11/status/806228825298366464</td>\n",
       "    </tr>\n",
       "    <tr>\n",
       "      <th>5891</th>\n",
       "      <td>0</td>\n",
       "      <td>Retweeted Otu Wooder OtuWooder Don t spoil the Fun Let s keep the JOHN legacy VoteforJMnumber3</td>\n",
       "      <td>https://twitter.com/Asanteclickwise/status/806243482381729792</td>\n",
       "    </tr>\n",
       "    <tr>\n",
       "      <th>5892</th>\n",
       "      <td>0</td>\n",
       "      <td>Retweeted Otu Wooder OtuWooder I have decided What about you VoteforJMnumber3</td>\n",
       "      <td>https://twitter.com/Asanteclickwise/status/806243495614840833</td>\n",
       "    </tr>\n",
       "    <tr>\n",
       "      <th>5893</th>\n",
       "      <td>0</td>\n",
       "      <td>American politics shld not determine our fate Let s all VoteforJMnumber3</td>\n",
       "      <td>https://twitter.com/OtuWooder/status/806245430665375749</td>\n",
       "    </tr>\n",
       "    <tr>\n",
       "      <th>5894</th>\n",
       "      <td>0</td>\n",
       "      <td>Retweeted VoteforJMnumber3 Therson_ VoteforJMnumber3</td>\n",
       "      <td>https://twitter.com/Asanteclickwise/status/806251585764466688</td>\n",
       "    </tr>\n",
       "    <tr>\n",
       "      <th>5895</th>\n",
       "      <td>0</td>\n",
       "      <td>Retweeted VoteforJMnumber3 Therson_ VoteforJMnumber3</td>\n",
       "      <td>https://twitter.com/Asanteclickwise/status/806251599345631232</td>\n",
       "    </tr>\n",
       "    <tr>\n",
       "      <th>5896</th>\n",
       "      <td>0</td>\n",
       "      <td>Retweeted VoteforJMnumber3 Therson_ We need every thumb available VoteforJMnumber3</td>\n",
       "      <td>https://twitter.com/Asanteclickwise/status/806251716920430596</td>\n",
       "    </tr>\n",
       "    <tr>\n",
       "      <th>5897</th>\n",
       "      <td>0</td>\n",
       "      <td>Retweeted VoteforJMnumber3 Therson_ Go out and Vote VoteforJMnumber3</td>\n",
       "      <td>https://twitter.com/Asanteclickwise/status/806251729100611584</td>\n",
       "    </tr>\n",
       "    <tr>\n",
       "      <th>5898</th>\n",
       "      <td>0</td>\n",
       "      <td>Retweeted VoteforJMnumber3 DAR_WorldWide forget the party who can t even be candid on Issues and VoteforJMnumber3</td>\n",
       "      <td>https://twitter.com/Asanteclickwise/status/806252026904662016</td>\n",
       "    </tr>\n",
       "    <tr>\n",
       "      <th>5899</th>\n",
       "      <td>0</td>\n",
       "      <td>VoteforJMnumber3</td>\n",
       "      <td>https://twitter.com/_courage/status/806296496664612865</td>\n",
       "    </tr>\n",
       "    <tr>\n",
       "      <th>5900</th>\n",
       "      <td>0</td>\n",
       "      <td>VoteforJMnumber3</td>\n",
       "      <td>https://twitter.com/NanaSei__/status/806320177885351936</td>\n",
       "    </tr>\n",
       "    <tr>\n",
       "      <th>5901</th>\n",
       "      <td>0</td>\n",
       "      <td>Retweeted Obuobia Darko Opoku Obuobia RECAP My Campaign Launch JDMahama Arrival TransformingGhana</td>\n",
       "      <td>https://twitter.com/Asanteclickwise/status/782963087779311617</td>\n",
       "    </tr>\n",
       "    <tr>\n",
       "      <th>5902</th>\n",
       "      <td>0</td>\n",
       "      <td>VoteforJMnumber3 JM is our only hope if we want to progress IN MAHAMA I TRUST SO HELP US GOD</td>\n",
       "      <td>https://twitter.com/messiamf/status/806380810995728384</td>\n",
       "    </tr>\n",
       "    <tr>\n",
       "      <th>5903</th>\n",
       "      <td>0</td>\n",
       "      <td>I have decided to voteforjmnumber3</td>\n",
       "      <td>https://twitter.com/OtuWooder/status/806410272189587457</td>\n",
       "    </tr>\n",
       "    <tr>\n",
       "      <th>5904</th>\n",
       "      <td>0</td>\n",
       "      <td>The best social party in Ghana NDC JohnMahama VoteforJMnumber3</td>\n",
       "      <td>https://twitter.com/ghanaarmani/status/806509200155279360</td>\n",
       "    </tr>\n",
       "  </tbody>\n",
       "</table>\n",
       "<p>5905 rows × 3 columns</p>\n",
       "</div>"
      ],
      "text/plain": [
       "      score  \\\n",
       "0     227     \n",
       "1     153     \n",
       "2     152     \n",
       "3     136     \n",
       "4     125     \n",
       "5     121     \n",
       "6     120     \n",
       "7     120     \n",
       "8     119     \n",
       "9     117     \n",
       "10    114     \n",
       "11    113     \n",
       "12    110     \n",
       "13    108     \n",
       "14    107     \n",
       "15    107     \n",
       "16    106     \n",
       "17    106     \n",
       "18    106     \n",
       "19    105     \n",
       "20    105     \n",
       "21    105     \n",
       "22    104     \n",
       "23    104     \n",
       "24    104     \n",
       "25    104     \n",
       "26    104     \n",
       "27    104     \n",
       "28    104     \n",
       "29    104     \n",
       "...   ...     \n",
       "5875  0       \n",
       "5876  0       \n",
       "5877  0       \n",
       "5878  0       \n",
       "5879  0       \n",
       "5880  0       \n",
       "5881  0       \n",
       "5882  0       \n",
       "5883  0       \n",
       "5884  0       \n",
       "5885  0       \n",
       "5886  0       \n",
       "5887  0       \n",
       "5888  0       \n",
       "5889  0       \n",
       "5890  0       \n",
       "5891  0       \n",
       "5892  0       \n",
       "5893  0       \n",
       "5894  0       \n",
       "5895  0       \n",
       "5896  0       \n",
       "5897  0       \n",
       "5898  0       \n",
       "5899  0       \n",
       "5900  0       \n",
       "5901  0       \n",
       "5902  0       \n",
       "5903  0       \n",
       "5904  0       \n",
       "\n",
       "                                                                                                                                        text  \\\n",
       "0     We have decided JMToaso WeHaveDecided                                                                                                    \n",
       "1     Happy 58th birthday to His Excellency JDMahama Whether you like it or not you are continuing God bless JMTOASO                           \n",
       "2     Father in the name of Jesus Christ by the Power of your holy spirit bless the good thoughts JDMahama give him another victory JMToaso    \n",
       "3     We should have our lives back after the elections Vote for peace vote for progress JMToaso                                               \n",
       "4     We have retrieved GHc 40million under the National Service scandal and there are still criminal prosecutions ongoing Mahama JMToaso      \n",
       "5     Emphasis on quality teacher delivery with Science and Mathematics must start from equipping our teacher with the skills JMToaso          \n",
       "6     Happy birthday Champion wishing you success health and happiness on your birthday You are the best boss in the whole world JMTOASO       \n",
       "7     Happy birthday Champion wishing you success health and happiness on your birthday You are the best boss in the whole world JMTOASO       \n",
       "8     Happy Happy birthday to you Mr President JDMahama You are blessed JMToaso                                                                \n",
       "9     To our opponents kalypo isn t vote JMToaso                                                                                               \n",
       "10    Happy birthday JDMahama The celebration of this bday is the beginning of d grand celebration on December 7 JMTOASO LiveLongJMToaso       \n",
       "11    Hard Work indeed does pay and we can all see it JMToaso                                                                                  \n",
       "12    We have retrieved GHc 40million under the National Service scandal and there are still criminal prosecutions ongoing Mahama JMToaso      \n",
       "13    Ghana has already recorded low rates of infant and maternal mortality as recognised by the UN JMToaso                                    \n",
       "14    The power is in our hands Let s vote for JMToaso                                                                                         \n",
       "15    lovely Ghanaians hope you can see for yourself JMToaso                                                                                   \n",
       "16    Peace cannot be kept by force it can only be achieved by understanding JMToaso                                                           \n",
       "17    Quality Affordable Education JMToaso                                                                                                     \n",
       "18    Good work JMToaso                                                                                                                        \n",
       "19    Quality Affordable Education JMToaso                                                                                                     \n",
       "20    JMToaso May the Good Lord continue to shower his blessings on you on this special occasion of ur 58th Birthday JDMahama Happy Bday Sir   \n",
       "21    Happy birthday JDMahama The celebration of this bday is the beginning of d grand celebration on December 7 JMTOASO LiveLongJMToaso       \n",
       "22    Next week by this time we all dey prepare to go vote for JMToaso                                                                         \n",
       "23    JMToaso Let s make Ghana Proud on Dec 7TH                                                                                                \n",
       "24    Make a good decision on Dec 7th JMToaso                                                                                                  \n",
       "25    Don t sit on the fence take a front seat Go out and vote peacefully JMToaso                                                              \n",
       "26    Forward looking visionary JMToaso                                                                                                        \n",
       "27    Make a good decision to go out and vote for our collective good JMToaso                                                                  \n",
       "28    There will be an extension of the motorway pretty soon JMToaso                                                                           \n",
       "29    He who has Started A Good work shall surely bring it to An expected end onaapo                                                           \n",
       "...                                                                              ...                                                           \n",
       "5875  Retweeted Kersteng_Andy AndyKersteng VoteforJMnumber3 VoteforJMnumber3                                                                   \n",
       "5876  Retweeted Braa Kelvin braa_kelvin all VoteforJMnumber3 VoteforJMnumber3 VoteforJMnumber3                                                 \n",
       "5877  Retweeted Groove On GrooveOn2015 all VoteforJMnumber3 VoteforJMnumber3 VoteforJMnumber3                                                  \n",
       "5878  Retweeted Maame Akua Papabi MaameAkuaPapab1 all VoteforJMnumber3 VoteforJMnumber3 VoteforJMnumber3                                       \n",
       "5879  Retweeted EwuraAbyna kesseh vera_obaapay VoteforJMnumber3 VoteforJMnumber3 VoteforJMnumber3 VoteforJMnumber3                             \n",
       "5880  Retweeted Roger_Miller Roger_Mihla VoteforJMnumber3 VoteforJMnumber3                                                                     \n",
       "5881  Retweeted Kersteng_Andy AndyKersteng VoteforJMnumber3 VoteforJMnumber3 VoteforJMnumber3                                                  \n",
       "5882  Retweeted Jullian kweku_gadafi We will trend everyday till elections and guess what we ll win too toaso gang VoteforJMnumber3            \n",
       "5883  VoteforJMnumber3                                                                                                                         \n",
       "5884  VoteforJMnumber3                                                                                                                         \n",
       "5885  VoteforJMnumber3                                                                                                                         \n",
       "5886  VoteforJMnumber3                                                                                                                         \n",
       "5887  VoteforJMnumber3                                                                                                                         \n",
       "5888  VoteforJMnumber3                                                                                                                         \n",
       "5889  VoteforJMnumber3                                                                                                                         \n",
       "5890  VoteforJMnumber3                                                                                                                         \n",
       "5891  Retweeted Otu Wooder OtuWooder Don t spoil the Fun Let s keep the JOHN legacy VoteforJMnumber3                                           \n",
       "5892  Retweeted Otu Wooder OtuWooder I have decided What about you VoteforJMnumber3                                                            \n",
       "5893  American politics shld not determine our fate Let s all VoteforJMnumber3                                                                 \n",
       "5894  Retweeted VoteforJMnumber3 Therson_ VoteforJMnumber3                                                                                     \n",
       "5895  Retweeted VoteforJMnumber3 Therson_ VoteforJMnumber3                                                                                     \n",
       "5896  Retweeted VoteforJMnumber3 Therson_ We need every thumb available VoteforJMnumber3                                                       \n",
       "5897  Retweeted VoteforJMnumber3 Therson_ Go out and Vote VoteforJMnumber3                                                                     \n",
       "5898  Retweeted VoteforJMnumber3 DAR_WorldWide forget the party who can t even be candid on Issues and VoteforJMnumber3                        \n",
       "5899  VoteforJMnumber3                                                                                                                         \n",
       "5900  VoteforJMnumber3                                                                                                                         \n",
       "5901  Retweeted Obuobia Darko Opoku Obuobia RECAP My Campaign Launch JDMahama Arrival TransformingGhana                                        \n",
       "5902  VoteforJMnumber3 JM is our only hope if we want to progress IN MAHAMA I TRUST SO HELP US GOD                                             \n",
       "5903  I have decided to voteforjmnumber3                                                                                                       \n",
       "5904  The best social party in Ghana NDC JohnMahama VoteforJMnumber3                                                                           \n",
       "\n",
       "                                                          permalink  \n",
       "0     https://twitter.com/GhanaAtWorkGH/status/803227090124316674    \n",
       "1     https://twitter.com/JB5acesports/status/803526471587336192     \n",
       "2     https://twitter.com/AbeikuSantana/status/803505724915646464    \n",
       "3     https://twitter.com/Kwamebonfit/status/800641924776468480      \n",
       "4     https://twitter.com/APIIGY/status/800998182327111680           \n",
       "5     https://twitter.com/Kwamebonfit/status/800665904325554176      \n",
       "6     https://twitter.com/Samichel4real/status/803539904860921856    \n",
       "7     https://twitter.com/Kwamebonfit/status/803542078131240960      \n",
       "8     https://twitter.com/rabisparkle/status/803529173407006720      \n",
       "9     https://twitter.com/Cytizin_quayson/status/800643228349370368  \n",
       "10    https://twitter.com/destinyjnr/status/803536095526977536       \n",
       "11    https://twitter.com/Kwamebonfit/status/803190350181449728      \n",
       "12    https://twitter.com/APIIGY/status/800993424077979648           \n",
       "13    https://twitter.com/destinyjnr/status/803914645052465152       \n",
       "14    https://twitter.com/Kwamebonfit/status/803962065442508801      \n",
       "15    https://twitter.com/Kwamebonfit/status/801372827567984640      \n",
       "16    https://twitter.com/APIIGY/status/803870555279499264           \n",
       "17    https://twitter.com/Kwamebonfit/status/801702423756767232      \n",
       "18    https://twitter.com/Kwamebonfit/status/801371830204465152      \n",
       "19    https://twitter.com/APIIGY/status/801691575311077376           \n",
       "20    https://twitter.com/Kwamebonfit/status/803524011263225856      \n",
       "21    https://twitter.com/APIIGY/status/803536095766056960           \n",
       "22    https://twitter.com/bernard_small/status/803565452224004096    \n",
       "23    https://twitter.com/Kwamebonfit/status/803909568682192896      \n",
       "24    https://twitter.com/APIIGY/status/801692577166659584           \n",
       "25    https://twitter.com/Kwamebonfit/status/800980372322447360      \n",
       "26    https://twitter.com/campus_entatain/status/800973032969924608  \n",
       "27    https://twitter.com/Kwamebonfit/status/800978792395276293      \n",
       "28    https://twitter.com/Kwamebonfit/status/801665103972208640      \n",
       "29    https://twitter.com/Kwamebonfit/status/801658088147324928      \n",
       "...                                                         ...      \n",
       "5875  https://twitter.com/OkotoMenka/status/806226858501087232       \n",
       "5876  https://twitter.com/OkotoMenka/status/806226911961743360       \n",
       "5877  https://twitter.com/OkotoMenka/status/806226923324117002       \n",
       "5878  https://twitter.com/OkotoMenka/status/806226937135988736       \n",
       "5879  https://twitter.com/OkotoMenka/status/806227006295855104       \n",
       "5880  https://twitter.com/OkotoMenka/status/806227019251990529       \n",
       "5881  https://twitter.com/OkotoMenka/status/806227150542094336       \n",
       "5882  https://twitter.com/OkotoMenka/status/806227176974598144       \n",
       "5883  https://twitter.com/ThatBoyKobby/status/806227380624904193     \n",
       "5884  https://twitter.com/fiifibrew11/status/806227382227128320      \n",
       "5885  https://twitter.com/GuyInRed_/status/806227576318554112        \n",
       "5886  https://twitter.com/ThatBoyKobby/status/806227576435970050     \n",
       "5887  https://twitter.com/GuyInRed_/status/806228824828637184        \n",
       "5888  https://twitter.com/EdemReigns/status/806228824874766337       \n",
       "5889  https://twitter.com/kimlykesseh/status/806228825147379712      \n",
       "5890  https://twitter.com/fiifibrew11/status/806228825298366464      \n",
       "5891  https://twitter.com/Asanteclickwise/status/806243482381729792  \n",
       "5892  https://twitter.com/Asanteclickwise/status/806243495614840833  \n",
       "5893  https://twitter.com/OtuWooder/status/806245430665375749        \n",
       "5894  https://twitter.com/Asanteclickwise/status/806251585764466688  \n",
       "5895  https://twitter.com/Asanteclickwise/status/806251599345631232  \n",
       "5896  https://twitter.com/Asanteclickwise/status/806251716920430596  \n",
       "5897  https://twitter.com/Asanteclickwise/status/806251729100611584  \n",
       "5898  https://twitter.com/Asanteclickwise/status/806252026904662016  \n",
       "5899  https://twitter.com/_courage/status/806296496664612865         \n",
       "5900  https://twitter.com/NanaSei__/status/806320177885351936        \n",
       "5901  https://twitter.com/Asanteclickwise/status/782963087779311617  \n",
       "5902  https://twitter.com/messiamf/status/806380810995728384         \n",
       "5903  https://twitter.com/OtuWooder/status/806410272189587457        \n",
       "5904  https://twitter.com/ghanaarmani/status/806509200155279360      \n",
       "\n",
       "[5905 rows x 3 columns]"
      ]
     },
     "execution_count": 90,
     "metadata": {},
     "output_type": "execute_result"
    }
   ],
   "source": [
    "ndc_surprise = ndc.sort('score', ascending=False).filter_by('anticipation', 'emotion').to_dataframe()\n",
    "ndc_surprise[['score', 'text', 'permalink']]"
   ]
  },
  {
   "cell_type": "markdown",
   "metadata": {},
   "source": [
    "# Save final tweets data as csv"
   ]
  },
  {
   "cell_type": "code",
   "execution_count": 98,
   "metadata": {
    "collapsed": true
   },
   "outputs": [],
   "source": [
    "tweets.save('data/analysed_tweets.csv', format='csv')"
   ]
  },
  {
   "cell_type": "code",
   "execution_count": 99,
   "metadata": {
    "collapsed": false
   },
   "outputs": [
    {
     "data": {
      "text/plain": [
       "['favorites',\n",
       " 'hashtag',\n",
       " 'permalink',\n",
       " 'retweets',\n",
       " 'score',\n",
       " 'text',\n",
       " 'timestamp',\n",
       " 'username',\n",
       " 'clean_text',\n",
       " 'sentiment_score',\n",
       " 'sentiment',\n",
       " 'word_count',\n",
       " 'emotion_score',\n",
       " 'emotion']"
      ]
     },
     "execution_count": 99,
     "metadata": {},
     "output_type": "execute_result"
    }
   ],
   "source": [
    "tweets.column_names()"
   ]
  },
  {
   "cell_type": "code",
   "execution_count": null,
   "metadata": {
    "collapsed": true
   },
   "outputs": [],
   "source": []
  }
 ],
 "metadata": {
  "kernelspec": {
   "display_name": "Python 2",
   "language": "python",
   "name": "python2"
  },
  "language_info": {
   "codemirror_mode": {
    "name": "ipython",
    "version": 2
   },
   "file_extension": ".py",
   "mimetype": "text/x-python",
   "name": "python",
   "nbconvert_exporter": "python",
   "pygments_lexer": "ipython2",
   "version": "2.7.12"
  }
 },
 "nbformat": 4,
 "nbformat_minor": 1
}
